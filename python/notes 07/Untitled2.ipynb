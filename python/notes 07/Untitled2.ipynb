{
 "cells": [
  {
   "cell_type": "markdown",
   "metadata": {},
   "source": []
  },
  {
   "cell_type": "code",
   "execution_count": null,
   "metadata": {},
   "outputs": [],
   "source": [
    "# 예) 좌표 (3, 5)의 점 \n",
    "p1 = Point(3, 5) \n",
    "print(p1) #=> Point:(3,5)"
   ]
  },
  {
   "cell_type": "code",
   "execution_count": 3,
   "metadata": {},
   "outputs": [],
   "source": [
    "class Point:\n",
    "    def __init__(self,x,y):\n",
    "        self.x = x\n",
    "        self.y = y\n",
    "    def __str__(self):\n",
    "        return f'Point:({self.x},{self.y})'"
   ]
  },
  {
   "cell_type": "code",
   "execution_count": 4,
   "metadata": {},
   "outputs": [
    {
     "name": "stdout",
     "output_type": "stream",
     "text": [
      "Point:(0,0)\n"
     ]
    }
   ],
   "source": [
    "p1 = Point(0,0)\n",
    "\n",
    "print(p1)"
   ]
  },
  {
   "cell_type": "code",
   "execution_count": null,
   "metadata": {},
   "outputs": [],
   "source": [
    "# Circle:(0, 0),r:3"
   ]
  },
  {
   "cell_type": "code",
   "execution_count": 10,
   "metadata": {},
   "outputs": [],
   "source": [
    "class Circle:\n",
    "    def __init__(self,center,r):\n",
    "        self.center = center\n",
    "        self.r = r\n",
    "    def get_perimeter(self):\n",
    "        return 3.14 * self.r**2        \n",
    "    def get_area(self):\n",
    "        return 3.14 * 2 * self.r\n",
    "    def get_center(self):\n",
    "        return self.center.x, self.center.y\n",
    "    def __str__(self):\n",
    "        return f'Circle:({self.center.x}, {self.center.y}),r:{self.r}'        "
   ]
  },
  {
   "cell_type": "code",
   "execution_count": 11,
   "metadata": {},
   "outputs": [
    {
     "name": "stdout",
     "output_type": "stream",
     "text": [
      "28.26\n",
      "18.84\n",
      "(0, 0)\n",
      "Circle:(0, 0),r:3\n",
      "6.28\n",
      "3.14\n",
      "(4, 5)\n",
      "Circle:(4, 5),r:1\n"
     ]
    }
   ],
   "source": [
    "c1 = Circle(p1, 3)\n",
    "print(c1.get_perimeter())\n",
    "print(c1.get_area())\n",
    "print(c1.get_center())\n",
    "print(c1)\n",
    "p2 = Point(4, 5) \n",
    "c2 = Circle(p2, 1) \n",
    "print(c2.get_area()) \n",
    "print(c2.get_perimeter()) \n",
    "print(c2.get_center()) \n",
    "print(c2)"
   ]
  },
  {
   "cell_type": "code",
   "execution_count": null,
   "metadata": {},
   "outputs": [],
   "source": []
  },
  {
   "cell_type": "code",
   "execution_count": null,
   "metadata": {},
   "outputs": [],
   "source": []
  },
  {
   "cell_type": "code",
   "execution_count": null,
   "metadata": {},
   "outputs": [],
   "source": []
  }
 ],
 "metadata": {
  "kernelspec": {
   "display_name": "Python 3",
   "language": "python",
   "name": "python3"
  },
  "language_info": {
   "codemirror_mode": {
    "name": "ipython",
    "version": 3
   },
   "file_extension": ".py",
   "mimetype": "text/x-python",
   "name": "python",
   "nbconvert_exporter": "python",
   "pygments_lexer": "ipython3",
   "version": "3.7.3"
  },
  "toc": {
   "base_numbering": 1,
   "nav_menu": {},
   "number_sections": true,
   "sideBar": true,
   "skip_h1_title": false,
   "title_cell": "Table of Contents",
   "title_sidebar": "Contents",
   "toc_cell": false,
   "toc_position": {},
   "toc_section_display": true,
   "toc_window_display": false
  }
 },
 "nbformat": 4,
 "nbformat_minor": 2
}
