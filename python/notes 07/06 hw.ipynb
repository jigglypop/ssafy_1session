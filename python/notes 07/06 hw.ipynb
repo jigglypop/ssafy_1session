{
 "cells": [
  {
   "cell_type": "code",
   "execution_count": 1,
   "metadata": {},
   "outputs": [],
   "source": [
    "class Circle:\n",
    "    def __init__(self):\n",
    "        self.pi = 3.14       \n",
    "    def area(self, r):\n",
    "        return self.pi * r**2\n",
    "    def circumference(self, r):\n",
    "        return round(self.pi * r * 2,2)\n",
    "    def center(self, x, y):\n",
    "        return (x, y)    "
   ]
  },
  {
   "cell_type": "code",
   "execution_count": 8,
   "metadata": {},
   "outputs": [],
   "source": [
    "class Circle:\n",
    "    pi = 3.14\n",
    "    x = 0\n",
    "    y = 0\n",
    "    r = 0\n",
    "    \n",
    "    def __init__(self, r, x, y):\n",
    "        self.r = r\n",
    "        self.x = x\n",
    "        self.y = y        \n",
    "    def area(self):\n",
    "        return round(self.pi * self.r * self.r,2)\n",
    "    def circumference(self):\n",
    "        return round(2 * self.pi * self.r,2)\n",
    "    def center(self):\n",
    "        return (self.x, self.y)   "
   ]
  },
  {
   "cell_type": "code",
   "execution_count": 18,
   "metadata": {},
   "outputs": [
    {
     "name": "stdout",
     "output_type": "stream",
     "text": [
      "78.5\n",
      "31.4\n",
      "(0, 0)\n"
     ]
    }
   ],
   "source": [
    "c = Circle(5,0,0)\n",
    "print(c.area())\n",
    "print(c.circumference())\n",
    "print(c.center())"
   ]
  }
 ],
 "metadata": {
  "kernelspec": {
   "display_name": "Python 3",
   "language": "python",
   "name": "python3"
  },
  "language_info": {
   "codemirror_mode": {
    "name": "ipython",
    "version": 3
   },
   "file_extension": ".py",
   "mimetype": "text/x-python",
   "name": "python",
   "nbconvert_exporter": "python",
   "pygments_lexer": "ipython3",
   "version": "3.7.3"
  },
  "toc": {
   "base_numbering": 1,
   "nav_menu": {},
   "number_sections": true,
   "sideBar": true,
   "skip_h1_title": false,
   "title_cell": "Table of Contents",
   "title_sidebar": "Contents",
   "toc_cell": false,
   "toc_position": {},
   "toc_section_display": true,
   "toc_window_display": false
  }
 },
 "nbformat": 4,
 "nbformat_minor": 2
}
