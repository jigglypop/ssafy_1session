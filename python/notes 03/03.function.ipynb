{
 "cells": [
  {
   "cell_type": "markdown",
   "metadata": {},
   "source": [
    "# 함수(function)"
   ]
  },
  {
   "cell_type": "markdown",
   "metadata": {},
   "source": [
    "<center>\n",
    "    <img src=\"./images/03/func.png\", alt=\"func.png\">\n",
    "</center>"
   ]
  },
  {
   "cell_type": "markdown",
   "metadata": {},
   "source": [
    "## 들어가기전에\n",
    "\n",
    "> 직사각형의 둘레와 면적을 구하는 코드를 작성해주세요.\n",
    "\n",
    "```python\n",
    "height = 30\n",
    "width = 20\n",
    "```\n",
    "\n",
    "---\n",
    "```\n",
    "예시 출력)\n",
    "직사각형 둘레: 100, 면적: 600입니다.\n",
    "```"
   ]
  },
  {
   "cell_type": "code",
   "execution_count": null,
   "metadata": {},
   "outputs": [],
   "source": [
    "height = 30\n",
    "width = 20\n",
    "# 아래에 코드를 작성하세요.\n",
    "\n",
    "area = height * width\n",
    "perimeter = 2*(height + width)\n",
    "\n",
    "print(f'{area}')\n",
    "print(f'{perimeter}')"
   ]
  },
  {
   "cell_type": "markdown",
   "metadata": {},
   "source": [
    "* 앞서 작성한 코드에서 매번 사각형의 둘레와 면적을 구하기 위해서는 변수에 값을 바꾸거나 코드를 복사 붙여넣기 해야합니다.\n",
    "* 코드가 많아질수록 문제가 발생할 확률이 높아지며, 유지 보수하기도 힘들어진다."
   ]
  },
  {
   "cell_type": "markdown",
   "metadata": {},
   "source": [
    "<center>\n",
    "    <img src=\"./images/03/emc2.png\", alt=\"programming principle\">\n",
    "</center>"
   ]
  },
  {
   "cell_type": "markdown",
   "metadata": {},
   "source": [
    "<center>\n",
    "    <img src=\"./images/03/principle.png\", alt=\"programming principle\">\n",
    "</center>"
   ]
  },
  {
   "cell_type": "markdown",
   "metadata": {},
   "source": [
    "## 함수의 선언과 호출\n",
    "\n",
    "```python\n",
    "def func(parameter1, parameter2):\n",
    "    code line1\n",
    "    code line2\n",
    "    return value\n",
    "```\n",
    "\n",
    "* 함수 선언은 `def`로 시작하여 `:`으로 끝나고, 다음은 `4spaces 들여쓰기`로 코드 블록을 만듭니다.\n",
    "\n",
    "* 함수는 `매개변수(parameter)`를 넘겨줄 수도 있습니다.\n",
    "\n",
    "* 함수는 동작후에 `return`을 통해 결과값을 전달 할 수도 있습니다. (`return` 값이 없으면, None을 반환합니다.)\n",
    "\n",
    "* 함수는 호출을 `func(val1, val2)`와 같이 합니다.\n",
    "\n"
   ]
  },
  {
   "cell_type": "code",
   "execution_count": null,
   "metadata": {},
   "outputs": [],
   "source": [
    "# 위의 사각형 면적을 반환 코드를 함수로 아래에 작성해보세요\n",
    "height, width = 30, 20\n",
    "\n",
    "\n",
    "def rectangle(height, width):\n",
    "    # height, width = 100, 100\n",
    "    area = height * width\n",
    "    perimeter = 2*(height + width)\n",
    "    return print(f'직사각형 둘레: {perimeter} 직사각형 넓이: {area}')\n",
    "\n",
    "print(area,perimeter)"
   ]
  },
  {
   "cell_type": "code",
   "execution_count": null,
   "metadata": {},
   "outputs": [],
   "source": [
    "print(rectangle(60, 30))\n",
    "print(rectangle(100, 100))\n",
    "# return으로 반환된다고 프린트되는 것은 아니다. 반드시 프린트를 넣어줘야 한다.\n",
    "rectangle(60,30)"
   ]
  },
  {
   "cell_type": "code",
   "execution_count": null,
   "metadata": {},
   "outputs": [],
   "source": [
    "# 이렇게 한다!\n",
    "\n",
    "height, width = 30, 20\n",
    "\n",
    "def rectangle(height, width):\n",
    "    # height, width = 100, 100\n",
    "    area = height * width\n",
    "    perimeter = 2*(height + width)\n",
    "    return f'직사각형 둘레: {perimeter} 직사각형 넓이: {area}'\n",
    "\n",
    "print(rectangle(height, width))"
   ]
  },
  {
   "cell_type": "markdown",
   "metadata": {},
   "source": [
    "<center>\n",
    "    <img src=\"./images/03/func_des.png\", alt=\"function descrpition\">\n",
    "</center>"
   ]
  },
  {
   "cell_type": "markdown",
   "metadata": {},
   "source": [
    "<center>\n",
    "    <img src=\"./images/03/function_ex.png\", alt=\"function_example\">\n",
    "</center>"
   ]
  },
  {
   "cell_type": "code",
   "execution_count": null,
   "metadata": {},
   "outputs": [],
   "source": [
    "# 우리가 활용하는 print문도 파이썬에 지정된 함수입니다. \n",
    "# 아래에서 'hi'는 parameter이고 출력을 하게 됩니다.\n",
    "print('hi')"
   ]
  },
  {
   "cell_type": "markdown",
   "metadata": {},
   "source": [
    "<center>\n",
    "    <img src=\"./images/03/built_in.png\", alt=\"built_in\">\n",
    "</center>\n",
    "\n",
    "[출처: python 공식문서](https://docs.python.org/3/library/functions.html)"
   ]
  },
  {
   "cell_type": "code",
   "execution_count": null,
   "metadata": {},
   "outputs": [],
   "source": [
    "# 내장함수 목록을 직접 볼 수도 있습니다.\n",
    "\n",
    "dir(__builtins__)\n",
    "# dir 에 값을 넣으면 실행할 수 있는 모든 함수를 보여준다\n",
    "dir(1)"
   ]
  },
  {
   "cell_type": "code",
   "execution_count": null,
   "metadata": {},
   "outputs": [],
   "source": [
    "1 + 3"
   ]
  },
  {
   "cell_type": "markdown",
   "metadata": {},
   "source": [
    "## 함수를 만들어봅시다.\n",
    "\n",
    "> 아래의 코드와 동일한 `my_max`함수를 만들어주세요.\n",
    ">\n",
    "> 정수를 두개 받아서, 큰 값을 출력합니다. \n",
    "\n",
    "```python\n",
    "max(1, 5)\n",
    "```\n",
    "---\n",
    "```\n",
    "예상 출력)\n",
    "5가 더 큽니다\n",
    "```\n"
   ]
  },
  {
   "cell_type": "code",
   "execution_count": null,
   "metadata": {},
   "outputs": [],
   "source": [
    "# max(1, 5)를 호출 해봅시다.\n",
    "\n",
    "max(1, 5)"
   ]
  },
  {
   "cell_type": "code",
   "execution_count": null,
   "metadata": {},
   "outputs": [],
   "source": [
    "# 여기에 my_max 함수를 만들어주세요.\n",
    "\n",
    "def my_max(a, b):\n",
    "    if a > b:\n",
    "        return a\n",
    "    else:\n",
    "        return b    "
   ]
  },
  {
   "cell_type": "code",
   "execution_count": null,
   "metadata": {},
   "outputs": [],
   "source": [
    "# 그리고 호출 해봅시다.\n",
    "\n",
    "print(f'{my_max(1,5)}가 더 큽니다')"
   ]
  },
  {
   "cell_type": "code",
   "execution_count": null,
   "metadata": {},
   "outputs": [],
   "source": [
    "def my_max2(num1, num2):\n",
    "    return num1 if num1 > num2 else num2"
   ]
  },
  {
   "cell_type": "code",
   "execution_count": null,
   "metadata": {},
   "outputs": [],
   "source": [
    "my_max2(100,1000)"
   ]
  },
  {
   "cell_type": "markdown",
   "metadata": {},
   "source": [
    "# 함수의 return\n",
    "\n",
    "앞서 설명한 것과 마찬가지로 함수는 반환되는 값이 있으며, 이는 어떠한 종류의 객체여도 상관없습니다. \n",
    " \n",
    "## 단, 오직 한 개의 객체만 반환됩니다.\n",
    "\n",
    "함수가 return 되거나 종료되면, 함수를 호출한 곳으로 돌아갑니다.\n",
    "두개의 값이 나오는 경우는 튜플 (1,3) 처럼 나온다."
   ]
  },
  {
   "cell_type": "markdown",
   "metadata": {},
   "source": [
    "## 함수를 정의하고 값을 반환해봅시다.\n",
    "\n",
    "> 함수는 모든 객체를 리턴할 수 있습니다. \n",
    "> \n",
    "> 리스트 두개를 받아 각각 더한 결과를 비교하여 값이 큰 리스트를 반환합니다.\n",
    "\n",
    "```python\n",
    "my_list_max([10, 3], [5, 9])\n",
    "```\n",
    "---\n",
    "```\n",
    "예상 출력)\n",
    "[5, 9]\n",
    "```\n"
   ]
  },
  {
   "cell_type": "code",
   "execution_count": null,
   "metadata": {},
   "outputs": [],
   "source": [
    "# 여기에 my_list_max 함수를 만들어주세요.\n",
    "\n",
    "def my_list_max(a, b):\n",
    "    A = sum(a)\n",
    "    B = sum(b)\n",
    "    if A > B:\n",
    "        return a\n",
    "    else:\n",
    "        return b\n",
    "print(my_list_max([10, 3], [5, 9]))"
   ]
  },
  {
   "cell_type": "code",
   "execution_count": null,
   "metadata": {},
   "outputs": [],
   "source": [
    "def my_list_max(a, b):\n",
    "    A = sum(a)\n",
    "    B = sum(b)\n",
    "    return a if A > B else b\n",
    "print(my_list_max([10, 3], [5, 9]))"
   ]
  },
  {
   "cell_type": "code",
   "execution_count": null,
   "metadata": {},
   "outputs": [],
   "source": [
    "def my_list_max(a, b):\n",
    "    return a if sum(a) > sum(b) else b\n",
    "print(my_list_max([10, 3], [5, 9]))"
   ]
  },
  {
   "cell_type": "code",
   "execution_count": null,
   "metadata": {},
   "outputs": [],
   "source": [
    "def A(a,b):\n",
    "    return a, b\n",
    "\n",
    "# 숫자와 문자를 반환하는 것처럼 보이지만, 실제로는 tuple이다. 즉 한개.\n",
    "# 리턴값이 하나더라도 tuple '하나'로 반환된다."
   ]
  },
  {
   "cell_type": "code",
   "execution_count": null,
   "metadata": {},
   "outputs": [],
   "source": [
    "A(1,'2')\n",
    "print(type(A(1,'2')))"
   ]
  },
  {
   "cell_type": "markdown",
   "metadata": {},
   "source": [
    "# 함수의 인수\n",
    "\n",
    "함수는 `인자(parameter)`를 넘겨줄 수 있습니다."
   ]
  },
  {
   "cell_type": "markdown",
   "metadata": {},
   "source": [
    "## 위치 인수\n",
    "\n",
    "함수는 기본적으로 인수를 위치로 판단합니다."
   ]
  },
  {
   "cell_type": "code",
   "execution_count": null,
   "metadata": {},
   "outputs": [],
   "source": [
    "# 알고 있는 수학 공식의 함수를 하나만 만들어보세요.\n",
    "# 인자(함수 정의시, 매개변수 : ex def(a,b)에서 a,b가 인자) //인수(함수 호출 : ex def(1,2)에서 1,2가 인수) \n",
    "\n",
    "def my_sub(a,b):\n",
    "    # a, b = 1, 3 \n",
    "    return a - b"
   ]
  },
  {
   "cell_type": "code",
   "execution_count": null,
   "metadata": {},
   "outputs": [],
   "source": [
    "my_sub(1,3)"
   ]
  },
  {
   "cell_type": "code",
   "execution_count": null,
   "metadata": {},
   "outputs": [],
   "source": [
    "my_sub(3,1)\n",
    "\n",
    "# 3이 먼저 들어왔기 때문에 a로 판단하고 1이 나중에 들어왔으므로 나중으로 판단."
   ]
  },
  {
   "cell_type": "code",
   "execution_count": null,
   "metadata": {},
   "outputs": [],
   "source": [
    "my_sub(1)"
   ]
  },
  {
   "cell_type": "markdown",
   "metadata": {},
   "source": [
    "<center>\n",
    "    <img src=\"./images/03/func_ex_01.png\", alt=\"function example 02\">\n",
    "</center>"
   ]
  },
  {
   "cell_type": "markdown",
   "metadata": {},
   "source": [
    "## 기본 값(Default Argument Values)\n",
    "\n",
    "함수가 호출될 때, 인자를 지정하지 않아도 기본 값을 설정할 수 있습니다. \n",
    "\n",
    "**활용법**\n",
    "```python\n",
    "def func(p1=v1):\n",
    "    return p1\n",
    "```"
   ]
  },
  {
   "cell_type": "markdown",
   "metadata": {},
   "source": [
    "### 기본 값 활용 예제\n",
    "\n",
    "> 이름을 받아서 다음과 같이 인사하는 함수 greeting을 만들어보세요. 이름이 길동이면, \"길동, 안녕?\" 이름이 없으면 \"익명, 안녕?\" 으로 출력해주세요."
   ]
  },
  {
   "cell_type": "code",
   "execution_count": null,
   "metadata": {},
   "outputs": [],
   "source": [
    "# 아래에 greeting 함수를 만들어보세요.\n",
    "\n",
    "def greeting(n):\n",
    "    return '길동, 안녕' if n == '길동' else '익명, 안녕'\n",
    "print(greeting('길동'))"
   ]
  },
  {
   "cell_type": "code",
   "execution_count": null,
   "metadata": {},
   "outputs": [],
   "source": [
    "def greeting(n = '익명'):\n",
    "    print(f'{n}, 안녕')   "
   ]
  },
  {
   "cell_type": "code",
   "execution_count": null,
   "metadata": {},
   "outputs": [],
   "source": [
    "greeting('길동')"
   ]
  },
  {
   "cell_type": "code",
   "execution_count": null,
   "metadata": {},
   "outputs": [],
   "source": [
    "greeting('익명')"
   ]
  },
  {
   "cell_type": "code",
   "execution_count": null,
   "metadata": {},
   "outputs": [],
   "source": [
    "greeting()"
   ]
  },
  {
   "cell_type": "code",
   "execution_count": null,
   "metadata": {},
   "outputs": [],
   "source": [
    "def hi(n = '안녕'):\n",
    "    print(f'{n}')"
   ]
  },
  {
   "cell_type": "code",
   "execution_count": null,
   "metadata": {},
   "outputs": [],
   "source": [
    "hi()"
   ]
  },
  {
   "cell_type": "markdown",
   "metadata": {},
   "source": [
    "* 기본 인자 값이 설정되어 있더라도 기존의 함수와 동일하게 호출 가능합니다.\n",
    "<center>\n",
    "    <img src=\"./images/03/func_ex_02.png\", alt=\"function example 02\">\n",
    "</center>"
   ]
  },
  {
   "cell_type": "markdown",
   "metadata": {},
   "source": [
    "* 호출시 인자가 없으면 기본 인자 값이 활용됩니다.\n",
    "<center>\n",
    "    <img src=\"./images/03/func_ex_03.png\", alt=\"function example 03\">\n",
    "</center>"
   ]
  },
  {
   "cell_type": "markdown",
   "metadata": {},
   "source": [
    "* 단, 기본 매개변수 이후에 기본 값이 없는 매개변수를 사용할 수는 없습니다."
   ]
  },
  {
   "cell_type": "code",
   "execution_count": null,
   "metadata": {},
   "outputs": [],
   "source": [
    "# 오류를 확인해봅시다.\n",
    "\n",
    "def greeting(name = '익명', age):\n",
    "    print(f'{name}은 {age}살!')"
   ]
  },
  {
   "cell_type": "code",
   "execution_count": null,
   "metadata": {},
   "outputs": [],
   "source": [
    "def greeting(age, name = '익명'):\n",
    "    print(f'{name}는 {age}살')\n",
    "    \n",
    "#디폴트값을 뒤에 선언해줘야 오류가 안뜸. 순서가 있으므로 디폴트값이 앞에 있으면 안됨"
   ]
  },
  {
   "cell_type": "code",
   "execution_count": null,
   "metadata": {},
   "outputs": [],
   "source": [
    "def greet(age = 9, name = '마르코'):\n",
    "    return f'{name}는 {age}살'"
   ]
  },
  {
   "cell_type": "code",
   "execution_count": null,
   "metadata": {},
   "outputs": [],
   "source": [
    "greeting(9, '마르코')"
   ]
  },
  {
   "cell_type": "code",
   "execution_count": null,
   "metadata": {},
   "outputs": [],
   "source": [
    "print(greet())"
   ]
  },
  {
   "cell_type": "code",
   "execution_count": null,
   "metadata": {},
   "outputs": [],
   "source": [
    "# 수정해 봅시다."
   ]
  },
  {
   "cell_type": "markdown",
   "metadata": {},
   "source": [
    "## 키워드 인자(Keyword Arguments)\n",
    "\n",
    "키워드 인자는 직접적으로 변수의 이름으로 특정 인자를 전달할 수 있습니다."
   ]
  },
  {
   "cell_type": "code",
   "execution_count": null,
   "metadata": {},
   "outputs": [],
   "source": [
    "# 키워드 인자 예시\n",
    "\n",
    "print('123', end = '\\t')\n",
    "print('123', end = '\\t')"
   ]
  },
  {
   "cell_type": "markdown",
   "metadata": {},
   "source": [
    "* 단 아래와 같이 활용할 수는 없습니다. 키워드 인자를 활용한 뒤에 위치 인자를 활용할 수는 없습니다."
   ]
  },
  {
   "cell_type": "code",
   "execution_count": null,
   "metadata": {},
   "outputs": [],
   "source": [
    "# 확인 해봅시다.\n",
    "\n",
    "print(end = ',', '123')\n",
    "\n",
    "# 반대로 활용할 수는 없다. 키워드를 앞에 쓰면 뒤의 인자를 정의할 수가 없다."
   ]
  },
  {
   "cell_type": "markdown",
   "metadata": {},
   "source": [
    "우리가 주로 활용하는 `print()` 함수는 [파이썬 표준 라이브러리의 내장함수](https://docs.python.org/ko/3.6/library/functions.html) 중 하나이며, 다음과 같이 구성되어 있다.\n",
    "\n",
    "<br>\n",
    "<br>\n",
    "<center>\n",
    "    <img src=\"./images/03/print.png\", alt=\"print\">\n",
    "</center>"
   ]
  },
  {
   "cell_type": "code",
   "execution_count": null,
   "metadata": {},
   "outputs": [],
   "source": [
    "# print 함수를 활용 해봅시다.\n",
    "\n",
    "print('안녕', '하세요', sep = '/', end = '끝!')\n",
    "# sep로 안녕과 하세요 분할한다. 그리고 end는 마지막값"
   ]
  },
  {
   "cell_type": "markdown",
   "metadata": {},
   "source": [
    "## 가변 인자 리스트\n",
    "\n",
    "앞서 설명한 `print()`처럼 정해지지 않은 임의의 숫자의 인자를 받기 위해서는 가변인자를 활용합니다. \n",
    "\n",
    "가변인자는 `tuple` 형태로 처리가 되며, `*`로 표현합니다. \n",
    "\n",
    "**활용법**\n",
    "\n",
    "```python\n",
    "def func(*args):\n",
    "```"
   ]
  },
  {
   "cell_type": "code",
   "execution_count": null,
   "metadata": {},
   "outputs": [],
   "source": [
    "# 가변 인자 예시 (print문은 *obejcts를 통해 임의의 숫자의 인자를 모두 처리합니다.)\n",
    "# * : 언패킹. ** : 언패킹 2번.\n",
    "\n",
    "def A(*a):\n",
    "    return a\n",
    "print(A(1,2,3,4,54,5,6))\n",
    "\n",
    "# 임의의 개수를 받는다. 많은 숫자 가능"
   ]
  },
  {
   "cell_type": "code",
   "execution_count": null,
   "metadata": {},
   "outputs": [],
   "source": [
    "# args는 tuple!\n",
    "\n",
    "def my_fuc(*args):\n",
    "    print(type(args))"
   ]
  },
  {
   "cell_type": "code",
   "execution_count": null,
   "metadata": {},
   "outputs": [],
   "source": [
    "my_fuc(1,2,3)"
   ]
  },
  {
   "cell_type": "markdown",
   "metadata": {},
   "source": [
    "### 가변인자 리스트를 사용해봅시다.\n",
    "\n",
    "> 정수를 여러 개 받아서 가장 큰 값을 반환(return)하는 `my_max()`을 만들어주세요.\n",
    "\n",
    "```python\n",
    "my_max(10, 20, 30, 50)\n",
    "```\n",
    "---\n",
    "```\n",
    "예시출력)\n",
    "50\n",
    "```"
   ]
  },
  {
   "cell_type": "code",
   "execution_count": null,
   "metadata": {},
   "outputs": [],
   "source": [
    "max(1, 2, 3, 4)"
   ]
  },
  {
   "cell_type": "code",
   "execution_count": null,
   "metadata": {},
   "outputs": [],
   "source": [
    "# 아래에 코드를 작성해주세요.\n",
    "\n",
    "def my_max(*a):\n",
    "    b = a[0]\n",
    "    for i in range(1,len(a)):\n",
    "        if a[i] > a[i-1]:\n",
    "            b = a[i]       \n",
    "    return b\n",
    "print(my_max(1,2,3,4,3))"
   ]
  },
  {
   "cell_type": "code",
   "execution_count": null,
   "metadata": {},
   "outputs": [],
   "source": [
    "# 풀이 \n",
    "\n",
    "def my_max(*a):\n",
    "    m = a[0]\n",
    "    for i in a:\n",
    "        if i > m:\n",
    "            m = i\n",
    "    return m\n",
    "    # 하나씩 반복하면서, 큰 값을 기록한다. \n",
    "    # 만약에 큰 값보다 지금 값이 더 크면, 값을 바꾼다.    \n",
    "print(my_max(1,2,3,4,3))    "
   ]
  },
  {
   "cell_type": "code",
   "execution_count": null,
   "metadata": {},
   "outputs": [],
   "source": [
    "def my_max2(*a):\n",
    "    return sorted(a)[-1]\n",
    "print(my_max2(1,100,3,4))"
   ]
  },
  {
   "cell_type": "code",
   "execution_count": null,
   "metadata": {},
   "outputs": [],
   "source": [
    "# 함수를 호출 해보세요."
   ]
  },
  {
   "cell_type": "markdown",
   "metadata": {},
   "source": [
    "## 정의되지 않은 인자들 처리하기\n",
    "\n",
    "정의되지 않은 인자들은 `dict` 형태로 처리가 되며, `**`로 표현합니다. \n",
    "\n",
    "주로 `kwagrs`라는 이름을 사용하며, `**kwargs`를 통해 인자를 받아 처리할 수 있습니다.\n",
    "\n",
    "**활용법**\n",
    "\n",
    "```python\n",
    "def func(**kwargs):\n",
    "```"
   ]
  },
  {
   "cell_type": "markdown",
   "metadata": {},
   "source": [
    "우리가 dictionary를 만들 때 사용할 수 있는 `dict()` 함수는 [파이썬 표준 라이브러리의 내장함수](https://docs.python.org/ko/3.6/library/functions.html) 중 하나이며, 다음과 같이 구성되어 있다.\n",
    "<br>\n",
    "<br>\n",
    "<center>\n",
    "    <img src=\"./images/03/dict.png\", alt=\"dictionary\">\n",
    "</center>"
   ]
  },
  {
   "cell_type": "code",
   "execution_count": null,
   "metadata": {},
   "outputs": [],
   "source": [
    "# 딕셔너리 생성 함수 예시\n",
    "dict(사과 = 'apple', 바나나 = 'banana', 고양이 = 'cat')"
   ]
  },
  {
   "cell_type": "code",
   "execution_count": null,
   "metadata": {},
   "outputs": [],
   "source": [
    "def my_func(**k):\n",
    "    print(type(k))\n",
    "    print(k)"
   ]
  },
  {
   "cell_type": "code",
   "execution_count": null,
   "metadata": {},
   "outputs": [],
   "source": [
    "my_func(사과 = 'apple')"
   ]
  },
  {
   "cell_type": "markdown",
   "metadata": {},
   "source": [
    "### 정의되지 않은 인자를 처리해봅시다. \n",
    "\n",
    "> `my_dict()` 함수를 만들어 실제로 dictionary 모습으로 출력 함수를 만들어보세요.\n",
    ">\n",
    ">\n",
    "\n",
    "```\n",
    "예시 출력)\n",
    "한국어: 안녕, 영어: hi\n",
    "```"
   ]
  },
  {
   "cell_type": "code",
   "execution_count": null,
   "metadata": {},
   "outputs": [],
   "source": [
    "# 아래에 코드를 작성해주세요.\n",
    "\n",
    "def my_dict(**k):\n",
    "    print(k)"
   ]
  },
  {
   "cell_type": "code",
   "execution_count": null,
   "metadata": {},
   "outputs": [],
   "source": [
    "def my_dict(**a):\n",
    "    r = []\n",
    "    for k, v in a.items():\n",
    "        r.append(f'{k} : {v}')\n",
    "    print(r)\n",
    "    print(','.join(r))"
   ]
  },
  {
   "cell_type": "code",
   "execution_count": null,
   "metadata": {},
   "outputs": [],
   "source": [
    "# 함수를 호출 해보세요.\n",
    "my_dict(한국어 = '안녕', 영어 = 'hi')"
   ]
  },
  {
   "cell_type": "code",
   "execution_count": null,
   "metadata": {},
   "outputs": [],
   "source": [
    "# 사실은 dict()는 출력이 아니라 딕셔너리를 리턴(반환)합니다. \n",
    "# 리턴하는 my_fake_dict를 만들어주세요.\n",
    "\n",
    "def my_fake_dict(**k):\n",
    "    return k"
   ]
  },
  {
   "cell_type": "code",
   "execution_count": null,
   "metadata": {},
   "outputs": [],
   "source": [
    "my_fake_dict(한국어 = '안녕', 영어 = 'hi')"
   ]
  },
  {
   "cell_type": "markdown",
   "metadata": {},
   "source": [
    "## dictionary를 인자로 넘기기(unpacking arguments list)\n",
    "\n",
    "`**dict`를 통해 함수에 인자를 넘길 수 있습니다."
   ]
  },
  {
   "cell_type": "code",
   "execution_count": null,
   "metadata": {},
   "outputs": [],
   "source": [
    "my_dict = {'한국어' : 안녕, '영어' : hi}\n",
    "my_fake_dict(**my_dict)"
   ]
  },
  {
   "cell_type": "markdown",
   "metadata": {},
   "source": [
    "### 회원가입 검증 예제\n",
    "\n",
    "> 회원가입 로직을 검증하는 코드를 작성 해봅시다. \n",
    "\n",
    "* signup 함수는 `username`, `password`, `password_confirmation`을 인자로 받습니다.\n",
    "* `password`가 8자리 이상인지 확인을 합니다.\n",
    "* `password`와 `password_confirmation`이 일치하는지 확인을 합니다."
   ]
  },
  {
   "cell_type": "code",
   "execution_count": null,
   "metadata": {},
   "outputs": [],
   "source": [
    "my_account = {\n",
    "    'username': '홍길동',\n",
    "    'password': '1q2w3e4r',\n",
    "    'password_confirmation': '1q2w3e4r'\n",
    "}"
   ]
  },
  {
   "cell_type": "code",
   "execution_count": null,
   "metadata": {},
   "outputs": [],
   "source": [
    "# signup 함수를 작성 해주세요.\n",
    "def signup(**my_account):\n",
    "    if len(my_account['password']) >= 8:\n",
    "        if my_account['password'] == my_account['password_confirmation']:\n",
    "            print(True)"
   ]
  },
  {
   "cell_type": "code",
   "execution_count": null,
   "metadata": {},
   "outputs": [],
   "source": [
    "def signup(username,password,password_confirmation):\n",
    "    if len(password) >= 8:\n",
    "        if password == password_confirmation:\n",
    "            print(True)"
   ]
  },
  {
   "cell_type": "code",
   "execution_count": null,
   "metadata": {},
   "outputs": [],
   "source": [
    "def signup(username,password,password_confirmation):\n",
    "    if len(password) < 8:\n",
    "        return False\n",
    "    if password != password_confirmation:\n",
    "        return False\n",
    "    else:\n",
    "        return True"
   ]
  },
  {
   "cell_type": "code",
   "execution_count": null,
   "metadata": {},
   "outputs": [],
   "source": [
    "signup(**my_account)"
   ]
  },
  {
   "cell_type": "code",
   "execution_count": null,
   "metadata": {},
   "outputs": [],
   "source": [
    "signup(username = '홍길동',password = '1q2w3e4r',password_confirmation = '1q2w3e4r')"
   ]
  },
  {
   "cell_type": "code",
   "execution_count": null,
   "metadata": {},
   "outputs": [],
   "source": [
    "signup('홍길동',password = '1q2w3e4r',password_confirmation = '1q2w3e4r')"
   ]
  },
  {
   "cell_type": "code",
   "execution_count": null,
   "metadata": {},
   "outputs": [],
   "source": [
    "signup(username = '홍길동',password_confirmation = '1q2w3e4r',password = '1q2w3e4r')"
   ]
  },
  {
   "cell_type": "code",
   "execution_count": null,
   "metadata": {},
   "outputs": [],
   "source": [
    "signup('홍길동', '1q2w3e4r', '1q2w3e4r')"
   ]
  },
  {
   "cell_type": "code",
   "execution_count": null,
   "metadata": {},
   "outputs": [],
   "source": [
    "# signup 함수를 my_account를 넘겨 확인 해보세요.\n",
    "signup(**my_account)"
   ]
  },
  {
   "cell_type": "markdown",
   "metadata": {},
   "source": [
    "###  URL 편하게 만들기\n",
    "\n",
    "> url 패턴을 만들어 문자열을 반환하는  `my_url` 함수를 만들어봅시다.\n",
    ">\n",
    "> 영진위에서 제공하는 일별 박스오피스 API 서비스는 다음과 같은 방식으로 요청을 받습니다.\n",
    "\n",
    "```\n",
    "기본 요청 URL : http://www.kobis.or.kr/kobisopenapi/webservice/rest/boxoffice/searchDailyBoxOfficeList.json?\n",
    "```\n",
    "\n",
    "* key : 발급받은 키값(abc)\n",
    "* targetDt : yyyymmdd\n",
    "* itemPerPage : 1 ~ 10 **기본 10**\n",
    "\n",
    "\n",
    "```\n",
    "예시)\n",
    "my_url(key='abc', targetDt='yyyymmdd')\n",
    "\n",
    "api = {\n",
    "    'key': 'abc',\n",
    "    'targetDt': 'yyyymmdd'\n",
    "}\n",
    "my_url(**api)\n",
    "\n",
    "예시 출력)\n",
    "'http://www.kobis.or.kr/kobisopenapi/webservice/rest/boxoffice/searchDailyBoxOfficeList.json?itemPerPage=10&key=abc&targetDt=yyyymmdd&'\n",
    "```"
   ]
  },
  {
   "cell_type": "code",
   "execution_count": null,
   "metadata": {},
   "outputs": [],
   "source": [
    "# 여기에 코드를 작성해주세요.\n",
    "\n",
    "# ?itemPerPage=10&key=abc&targetDt=yyyymmdd&'\n",
    "\n",
    "def my_url(key, targetDt, itemPerPage = 10):\n",
    "    base_url = '?'\n",
    "    url = f'{base_url}key={key}&itemPerPage={itemPerPage}&targetDt={targetDt}'\n",
    "    return url"
   ]
  },
  {
   "cell_type": "code",
   "execution_count": null,
   "metadata": {},
   "outputs": [],
   "source": [
    "api = {\n",
    "    'key': 'abc',\n",
    "    'targetDt': 'yyyymmdd'\n",
    "}\n",
    "my_url(**api)"
   ]
  },
  {
   "cell_type": "code",
   "execution_count": null,
   "metadata": {},
   "outputs": [],
   "source": [
    "def my_url_2(itemPerPage = 10, **kwargs):\n",
    "    base_url = '?'\n",
    "    base_url += f'itemPerPage={itemPerPage}&'\n",
    "    for key, value in kwargs.items():\n",
    "        base_url += f'{key}={value}&'\n",
    "    return base_url"
   ]
  },
  {
   "cell_type": "code",
   "execution_count": null,
   "metadata": {},
   "outputs": [],
   "source": [
    "api = {\n",
    "    'key': 'abc',\n",
    "    'targetDt': 'yyyymmdd'\n",
    "}\n",
    "my_url_2(**api)"
   ]
  },
  {
   "cell_type": "markdown",
   "metadata": {},
   "source": [
    "### URL 검증하기\n",
    "\n",
    "> 이제 우리는 만들어진 요청 보내기전에 URL을 검증해야합니다. \n",
    ">\n",
    "> 앞선 설명을 참고하여 검증 로직을 구현하고 문자열을 반환하세요.\n",
    "\n",
    "```\n",
    "> 아래의 두가지 상황만 만들도록 하겠습니다. <\n",
    "\n",
    "key, targetDt가 없으면, '필수 요청변수가 누락되었습니다.'\n",
    "\n",
    "itemPerPage의 범위가 1~10을 넘어가면, '1~10까지의 값을 넣어주세요.'\n",
    "```"
   ]
  },
  {
   "cell_type": "code",
   "execution_count": null,
   "metadata": {},
   "outputs": [],
   "source": [
    "# 여기에 코드를 작성해주세요\n",
    "def my_url_3(itemPerPage = 10, **kwargs):\n",
    "    base_url = '?'\n",
    "    base_url += f'itemPerPage={itemPerPage}&'\n",
    "    if 'key' not in kwargs.keys() or 'targetDt' not in kwargs.keys():\n",
    "        return '필수 요청변수가 누락되었습니다.'\n",
    "    if int(itemPerPage) not in range(1,11):\n",
    "        return '1~10까지의 값을 넣어주세요.'\n",
    "    base_url = '?'\n",
    "    base_url += f'itemPerPage={itemPerPage}&'\n",
    "    for key, value in kwargs.items():\n",
    "        base_url += f'{key}={value}&'\n",
    "    return base_url\n"
   ]
  },
  {
   "cell_type": "code",
   "execution_count": null,
   "metadata": {},
   "outputs": [],
   "source": [
    "api = {\n",
    "    'key': 'abc',\n",
    "    'targetDt': 'yyyymmdd'\n",
    "}\n",
    "my_url_3(**api)"
   ]
  },
  {
   "cell_type": "markdown",
   "metadata": {},
   "source": [
    "## 이름공간 및 스코프(Scope)\n",
    "\n",
    "파이썬에서 사용되는 이름들은 이름공간(namespce)에 저장되어 있습니다.\n",
    "그리고, LEGB Rule을 가지고 있습니다. \n",
    "\n",
    "변수에서 값을 찾을 때 아래와 같은 순서대로 이름을 찾아나갑니다.\n",
    "* `L`ocal scope: 정의된 함수\n",
    "* `E`nclosed scope: 상위 함수 \n",
    "* `G`lobal scope: 함수 밖의 변수 혹은 import된 모듈\n",
    "* `B`uilt-in scope: 파이썬안에 내장되어 있는 함수 또는 속성"
   ]
  },
  {
   "cell_type": "code",
   "execution_count": 10,
   "metadata": {},
   "outputs": [
    {
     "ename": "TypeError",
     "evalue": "'int' object is not callable",
     "output_type": "error",
     "traceback": [
      "\u001b[1;31m---------------------------------------------------------------------------\u001b[0m",
      "\u001b[1;31mTypeError\u001b[0m                                 Traceback (most recent call last)",
      "\u001b[1;32m<ipython-input-10-0ece2e26c03d>\u001b[0m in \u001b[0;36m<module>\u001b[1;34m\u001b[0m\n\u001b[0;32m      2\u001b[0m \u001b[1;33m\u001b[0m\u001b[0m\n\u001b[0;32m      3\u001b[0m \u001b[1;31m# LEGB\u001b[0m\u001b[1;33m\u001b[0m\u001b[1;33m\u001b[0m\u001b[1;33m\u001b[0m\u001b[0m\n\u001b[1;32m----> 4\u001b[1;33m \u001b[0mprint\u001b[0m\u001b[1;33m(\u001b[0m\u001b[0mstr\u001b[0m\u001b[1;33m(\u001b[0m\u001b[1;36m4\u001b[0m\u001b[1;33m)\u001b[0m\u001b[1;33m)\u001b[0m\u001b[1;33m\u001b[0m\u001b[1;33m\u001b[0m\u001b[0m\n\u001b[0m\u001b[0;32m      5\u001b[0m \u001b[0mstr\u001b[0m \u001b[1;33m=\u001b[0m \u001b[1;36m4\u001b[0m\u001b[1;33m\u001b[0m\u001b[1;33m\u001b[0m\u001b[0m\n\u001b[0;32m      6\u001b[0m \u001b[0mprint\u001b[0m\u001b[1;33m(\u001b[0m\u001b[0mstr\u001b[0m\u001b[1;33m(\u001b[0m\u001b[1;36m4\u001b[0m\u001b[1;33m)\u001b[0m\u001b[1;33m)\u001b[0m\u001b[1;33m\u001b[0m\u001b[1;33m\u001b[0m\u001b[0m\n",
      "\u001b[1;31mTypeError\u001b[0m: 'int' object is not callable"
     ]
    }
   ],
   "source": [
    "# 따라서 첫시간에 내장함수의 식별자를 사용할 수 없었던 예제에서 오류가 생기는 이유를 확인할 수 있습니다.\n",
    "\n",
    "# LEGB\n",
    "print(str(4))\n",
    "str = 4\n",
    "print(str(4))"
   ]
  },
  {
   "cell_type": "markdown",
   "metadata": {},
   "source": [
    "* `str()` 코드가 실행되면\n",
    "* str을 Global scope에서 먼저 찾아서 `str = 4`를 가져오고, \n",
    "* 이는 함수가 아니라 변수이기 때문에 `not callable`하다라는 오류를 내뱉게 됩니다.\n",
    "* 우리가 원하는 `str()`은 Built-in scope에 있기 때문입니다."
   ]
  },
  {
   "cell_type": "code",
   "execution_count": null,
   "metadata": {},
   "outputs": [],
   "source": [
    "del str"
   ]
  },
  {
   "cell_type": "code",
   "execution_count": 11,
   "metadata": {},
   "outputs": [
    {
     "name": "stdout",
     "output_type": "stream",
     "text": [
      "3\n"
     ]
    }
   ],
   "source": [
    "# print(a)에 무엇이 출력되는지 확인해보세요.\n",
    "a = 1\n",
    "def localscope(a):\n",
    "    print(a)\n",
    "    \n",
    "localscope(3)"
   ]
  },
  {
   "cell_type": "code",
   "execution_count": 12,
   "metadata": {},
   "outputs": [
    {
     "name": "stdout",
     "output_type": "stream",
     "text": [
      "(\"글로벌 스코프{'__name__': '__main__', '__doc__': 'Automatically created module for \"\n",
      " \"IPython interactive environment', '__package__': None, '__loader__': None, \"\n",
      " \"'__spec__': None, '__builtin__': <module 'builtins' (built-in)>, \"\n",
      " '\\'__builtins__\\': <module \\'builtins\\' (built-in)>, \\'_ih\\': [\\'\\', \"# 굳이 '\n",
      " '전역에 있는 변수를 바꾸고 싶다면, 아래와 같이 선언할 수 있습니다.\\\\n\\\\nglobal_num = 5\\\\n\\\\ndef '\n",
      " 'localscope3():\\\\n    global global_num\\\\n    global_num = 5\\\\n    '\n",
      " \"print('local에서 설정함', global_num)\\\\n    \"\n",
      " '\\\\nprint(global_num)\\\\nlocalscope3()\\\\nprint(global_num)\\\\n\\\\n\\\\n# '\n",
      " '비추천(global을 붙인다.)\", \\'# 만약 로컬 스코프에서 내가 글로벌 값을 쓰고 싶다면, 인자로 넘겨서 독립된 공간에서 '\n",
      " '활용시키는게 낫다.\\\\n\\\\nglobal_num = 5\\\\ndef localscope4(g):\\\\n    print(g)\\\\n    '\n",
      " \"\\\\nlocalscope4(global_num)', '# 만약 로컬 스코프에 있는 값을 내가 글로벌에서 쓰고 싶다면, 리턴을 \"\n",
      " '해라!\\\\n\\\\ndef localscope5():\\\\n    global_num = 6\\\\n    return '\n",
      " \"global_num\\\\n\\\\nglobal_num = localscope5()\\\\nprint(global_num)', '# 만약 로컬 \"\n",
      " '스코프에 있는 값을 내가 글로벌에서 쓰고 싶다면, 리턴을 해라!\\\\n\\\\ndef localscope5():\\\\n    global_num '\n",
      " '= 6\\\\n    return global_num\\\\n\\\\nglobal_num = '\n",
      " \"localscope5()\\\\nprint(global_num)', '# 만약 로컬 스코프에 있는 값을 내가 글로벌에서 쓰고 싶다면, 리턴을 \"\n",
      " '해라!\\\\n\\\\ndef localscope5():\\\\n    global_num = 6\\\\n    return '\n",
      " \"global_num\\\\n\\\\nglobal_num = localscope5()\\\\nprint(global_num)', '# 만약 로컬 \"\n",
      " '스코프에 있는 값을 내가 글로벌에서 쓰고 싶다면, 리턴을 해라!\\\\n\\\\ndef localscope5():\\\\n    global_num '\n",
      " '= 6\\\\n    return global_num\\\\n\\\\nglobal_num = '\n",
      " \"localscope5()\\\\nprint(global_num)', '# 만약 로컬 스코프에 있는 값을 내가 글로벌에서 쓰고 싶다면, 리턴을 \"\n",
      " '해라!\\\\n\\\\ndef localscope5():\\\\n    global_num = 6\\\\n    return '\n",
      " \"global_num\\\\n\\\\nglobal_num = localscope5()\\\\nprint(global_num)', '# 만약 로컬 \"\n",
      " '스코프에 있는 값을 내가 글로벌에서 쓰고 싶다면, 리턴을 해라!\\\\n\\\\ndef localscope5():\\\\n    global_num '\n",
      " '= 6\\\\n    return global_num\\\\n\\\\nglobal_num = '\n",
      " \"localscope5()\\\\nprint(global_num)', '# 따라서 첫시간에 내장함수의 식별자를 사용할 수 없었던 예제에서 \"\n",
      " '오류가 생기는 이유를 확인할 수 있습니다.\\\\n\\\\n# LEGB\\\\nprint(str(4))\\\\nstr = '\n",
      " \"4\\\\nprint(str(4))', '# 따라서 첫시간에 내장함수의 식별자를 사용할 수 없었던 예제에서 오류가 생기는 이유를 확인할 수 \"\n",
      " \"있습니다.\\\\n\\\\n# LEGB\\\\nprint(str(4))\\\\nstr = 4\\\\nprint(str(4))', '# print(a)에 \"\n",
      " '무엇이 출력되는지 확인해보세요.\\\\na = 1\\\\ndef localscope(a):\\\\n    print(a)\\\\n    '\n",
      " '\\\\nlocalscope(3)\\', \"import pprint\\\\n\\\\na = 1\\\\npprint.pprint(f\\'글로벌 '\n",
      " \"스코프{locals()}')#로컬\\\\npprint.pprint(f'글로벌의 로컬{globals()}')#글로벌\\\\n\\\\ndef \"\n",
      " \"localscope(a):\\\\n    pprint.pprint(f'로컬 스코프{locals()}')#로컬\\\\n    \"\n",
      " \"pprint.pprint(f'로컬 스코프{globals()}')#글로벌\\\\n    pprint.pprint(a)   \"\n",
      " '\\\\nlocalscope(3)\\\\npprint.pprint(f\\'글로벌 스코프{locals()}\\')#글로벌\"], \\'_oh\\': {}, '\n",
      " \"'_dh': ['C:\\\\\\\\Users\\\\\\\\student\\\\\\\\Desktop\\\\\\\\코드공부\\\\\\\\python\\\\\\\\notes 03'], \"\n",
      " '\\'In\\': [\\'\\', \"# 굳이 전역에 있는 변수를 바꾸고 싶다면, 아래와 같이 선언할 수 있습니다.\\\\n\\\\nglobal_num '\n",
      " '= 5\\\\n\\\\ndef localscope3():\\\\n    global global_num\\\\n    global_num = '\n",
      " \"5\\\\n    print('local에서 설정함', global_num)\\\\n    \"\n",
      " '\\\\nprint(global_num)\\\\nlocalscope3()\\\\nprint(global_num)\\\\n\\\\n\\\\n# '\n",
      " '비추천(global을 붙인다.)\", \\'# 만약 로컬 스코프에서 내가 글로벌 값을 쓰고 싶다면, 인자로 넘겨서 독립된 공간에서 '\n",
      " '활용시키는게 낫다.\\\\n\\\\nglobal_num = 5\\\\ndef localscope4(g):\\\\n    print(g)\\\\n    '\n",
      " \"\\\\nlocalscope4(global_num)', '# 만약 로컬 스코프에 있는 값을 내가 글로벌에서 쓰고 싶다면, 리턴을 \"\n",
      " '해라!\\\\n\\\\ndef localscope5():\\\\n    global_num = 6\\\\n    return '\n",
      " \"global_num\\\\n\\\\nglobal_num = localscope5()\\\\nprint(global_num)', '# 만약 로컬 \"\n",
      " '스코프에 있는 값을 내가 글로벌에서 쓰고 싶다면, 리턴을 해라!\\\\n\\\\ndef localscope5():\\\\n    global_num '\n",
      " '= 6\\\\n    return global_num\\\\n\\\\nglobal_num = '\n",
      " \"localscope5()\\\\nprint(global_num)', '# 만약 로컬 스코프에 있는 값을 내가 글로벌에서 쓰고 싶다면, 리턴을 \"\n",
      " '해라!\\\\n\\\\ndef localscope5():\\\\n    global_num = 6\\\\n    return '\n",
      " \"global_num\\\\n\\\\nglobal_num = localscope5()\\\\nprint(global_num)', '# 만약 로컬 \"\n",
      " '스코프에 있는 값을 내가 글로벌에서 쓰고 싶다면, 리턴을 해라!\\\\n\\\\ndef localscope5():\\\\n    global_num '\n",
      " '= 6\\\\n    return global_num\\\\n\\\\nglobal_num = '\n",
      " \"localscope5()\\\\nprint(global_num)', '# 만약 로컬 스코프에 있는 값을 내가 글로벌에서 쓰고 싶다면, 리턴을 \"\n",
      " '해라!\\\\n\\\\ndef localscope5():\\\\n    global_num = 6\\\\n    return '\n",
      " \"global_num\\\\n\\\\nglobal_num = localscope5()\\\\nprint(global_num)', '# 만약 로컬 \"\n",
      " '스코프에 있는 값을 내가 글로벌에서 쓰고 싶다면, 리턴을 해라!\\\\n\\\\ndef localscope5():\\\\n    global_num '\n",
      " '= 6\\\\n    return global_num\\\\n\\\\nglobal_num = '\n",
      " \"localscope5()\\\\nprint(global_num)', '# 따라서 첫시간에 내장함수의 식별자를 사용할 수 없었던 예제에서 \"\n",
      " '오류가 생기는 이유를 확인할 수 있습니다.\\\\n\\\\n# LEGB\\\\nprint(str(4))\\\\nstr = '\n",
      " \"4\\\\nprint(str(4))', '# 따라서 첫시간에 내장함수의 식별자를 사용할 수 없었던 예제에서 오류가 생기는 이유를 확인할 수 \"\n",
      " \"있습니다.\\\\n\\\\n# LEGB\\\\nprint(str(4))\\\\nstr = 4\\\\nprint(str(4))', '# print(a)에 \"\n",
      " '무엇이 출력되는지 확인해보세요.\\\\na = 1\\\\ndef localscope(a):\\\\n    print(a)\\\\n    '\n",
      " '\\\\nlocalscope(3)\\', \"import pprint\\\\n\\\\na = 1\\\\npprint.pprint(f\\'글로벌 '\n",
      " \"스코프{locals()}')#로컬\\\\npprint.pprint(f'글로벌의 로컬{globals()}')#글로벌\\\\n\\\\ndef \"\n",
      " \"localscope(a):\\\\n    pprint.pprint(f'로컬 스코프{locals()}')#로컬\\\\n    \"\n",
      " \"pprint.pprint(f'로컬 스코프{globals()}')#글로벌\\\\n    pprint.pprint(a)   \"\n",
      " '\\\\nlocalscope(3)\\\\npprint.pprint(f\\'글로벌 스코프{locals()}\\')#글로벌\"], \\'Out\\': {}, '\n",
      " \"'get_ipython': <bound method InteractiveShell.get_ipython of \"\n",
      " \"<ipykernel.zmqshell.ZMQInteractiveShell object at 0x05003910>>, 'exit': \"\n",
      " \"<IPython.core.autocall.ZMQExitAutocall object at 0x05F95EB0>, 'quit': \"\n",
      " \"<IPython.core.autocall.ZMQExitAutocall object at 0x05F95EB0>, '_': '', '__': \"\n",
      " \"'', '___': '', '_i': '# print(a)에 무엇이 출력되는지 확인해보세요.\\\\na = 1\\\\ndef \"\n",
      " \"localscope(a):\\\\n    print(a)\\\\n    \\\\nlocalscope(3)', '_ii': '# 따라서 첫시간에 \"\n",
      " '내장함수의 식별자를 사용할 수 없었던 예제에서 오류가 생기는 이유를 확인할 수 있습니다.\\\\n\\\\n# '\n",
      " \"LEGB\\\\nprint(str(4))\\\\nstr = 4\\\\nprint(str(4))', '_iii': '# 따라서 첫시간에 내장함수의 \"\n",
      " '식별자를 사용할 수 없었던 예제에서 오류가 생기는 이유를 확인할 수 있습니다.\\\\n\\\\n# '\n",
      " 'LEGB\\\\nprint(str(4))\\\\nstr = 4\\\\nprint(str(4))\\', \\'_i1\\': \"# 굳이 전역에 있는 변수를 '\n",
      " '바꾸고 싶다면, 아래와 같이 선언할 수 있습니다.\\\\n\\\\nglobal_num = 5\\\\n\\\\ndef '\n",
      " 'localscope3():\\\\n    global global_num\\\\n    global_num = 5\\\\n    '\n",
      " \"print('local에서 설정함', global_num)\\\\n    \"\n",
      " '\\\\nprint(global_num)\\\\nlocalscope3()\\\\nprint(global_num)\\\\n\\\\n\\\\n# '\n",
      " '비추천(global을 붙인다.)\", \\'global_num\\': 6, \\'localscope3\\': <function '\n",
      " \"localscope3 at 0x0628A390>, '_i2': '# 만약 로컬 스코프에서 내가 글로벌 값을 쓰고 싶다면, 인자로 넘겨서 \"\n",
      " '독립된 공간에서 활용시키는게 낫다.\\\\n\\\\nglobal_num = 5\\\\ndef localscope4(g):\\\\n    '\n",
      " \"print(g)\\\\n    \\\\nlocalscope4(global_num)', 'localscope4': <function \"\n",
      " \"localscope4 at 0x0628A348>, '_i3': '# 만약 로컬 스코프에 있는 값을 내가 글로벌에서 쓰고 싶다면, 리턴을 \"\n",
      " '해라!\\\\n\\\\ndef localscope5():\\\\n    global_num = 6\\\\n    return '\n",
      " \"global_num\\\\n\\\\nglobal_num = localscope5()\\\\nprint(global_num)', \"\n",
      " \"'localscope5': <function localscope5 at 0x0628A978>, '_i4': '# 만약 로컬 스코프에 있는 \"\n",
      " '값을 내가 글로벌에서 쓰고 싶다면, 리턴을 해라!\\\\n\\\\ndef localscope5():\\\\n    global_num = '\n",
      " '6\\\\n    return global_num\\\\n\\\\nglobal_num = '\n",
      " \"localscope5()\\\\nprint(global_num)', '_i5': '# 만약 로컬 스코프에 있는 값을 내가 글로벌에서 쓰고 \"\n",
      " '싶다면, 리턴을 해라!\\\\n\\\\ndef localscope5():\\\\n    global_num = 6\\\\n    return '\n",
      " \"global_num\\\\n\\\\nglobal_num = localscope5()\\\\nprint(global_num)', '_i6': '# \"\n",
      " '만약 로컬 스코프에 있는 값을 내가 글로벌에서 쓰고 싶다면, 리턴을 해라!\\\\n\\\\ndef localscope5():\\\\n    '\n",
      " 'global_num = 6\\\\n    return global_num\\\\n\\\\nglobal_num = '\n",
      " \"localscope5()\\\\nprint(global_num)', '_i7': '# 만약 로컬 스코프에 있는 값을 내가 글로벌에서 쓰고 \"\n",
      " '싶다면, 리턴을 해라!\\\\n\\\\ndef localscope5():\\\\n    global_num = 6\\\\n    return '\n",
      " \"global_num\\\\n\\\\nglobal_num = localscope5()\\\\nprint(global_num)', '_i8': '# \"\n",
      " '만약 로컬 스코프에 있는 값을 내가 글로벌에서 쓰고 싶다면, 리턴을 해라!\\\\n\\\\ndef localscope5():\\\\n    '\n",
      " 'global_num = 6\\\\n    return global_num\\\\n\\\\nglobal_num = '\n",
      " \"localscope5()\\\\nprint(global_num)', '_i9': '# 따라서 첫시간에 내장함수의 식별자를 사용할 수 없었던 \"\n",
      " '예제에서 오류가 생기는 이유를 확인할 수 있습니다.\\\\n\\\\n# LEGB\\\\nprint(str(4))\\\\nstr = '\n",
      " \"4\\\\nprint(str(4))', 'str': 4, '_i10': '# 따라서 첫시간에 내장함수의 식별자를 사용할 수 없었던 예제에서 \"\n",
      " '오류가 생기는 이유를 확인할 수 있습니다.\\\\n\\\\n# LEGB\\\\nprint(str(4))\\\\nstr = '\n",
      " \"4\\\\nprint(str(4))', '_i11': '# print(a)에 무엇이 출력되는지 확인해보세요.\\\\na = 1\\\\ndef \"\n",
      " \"localscope(a):\\\\n    print(a)\\\\n    \\\\nlocalscope(3)', 'a': 1, 'localscope': \"\n",
      " '<function localscope at 0x012218A0>, \\'_i12\\': \"import pprint\\\\n\\\\na = '\n",
      " \"1\\\\npprint.pprint(f'글로벌 스코프{locals()}')#로컬\\\\npprint.pprint(f'글로벌의 \"\n",
      " \"로컬{globals()}')#글로벌\\\\n\\\\ndef localscope(a):\\\\n    pprint.pprint(f'로컬 \"\n",
      " \"스코프{locals()}')#로컬\\\\n    pprint.pprint(f'로컬 스코프{globals()}')#글로벌\\\\n    \"\n",
      " \"pprint.pprint(a)   \\\\nlocalscope(3)\\\\npprint.pprint(f'글로벌 \"\n",
      " '스코프{locals()}\\')#글로벌\", \\'pprint\\': <module \\'pprint\\' from '\n",
      " \"'c:\\\\\\\\users\\\\\\\\student\\\\\\\\appdata\\\\\\\\local\\\\\\\\programs\\\\\\\\python\\\\\\\\python37-32\\\\\\\\lib\\\\\\\\pprint.py'>}\")\n",
      "(\"글로벌의 로컬{'__name__': '__main__', '__doc__': 'Automatically created module for \"\n",
      " \"IPython interactive environment', '__package__': None, '__loader__': None, \"\n",
      " \"'__spec__': None, '__builtin__': <module 'builtins' (built-in)>, \"\n",
      " '\\'__builtins__\\': <module \\'builtins\\' (built-in)>, \\'_ih\\': [\\'\\', \"# 굳이 '\n",
      " '전역에 있는 변수를 바꾸고 싶다면, 아래와 같이 선언할 수 있습니다.\\\\n\\\\nglobal_num = 5\\\\n\\\\ndef '\n",
      " 'localscope3():\\\\n    global global_num\\\\n    global_num = 5\\\\n    '\n",
      " \"print('local에서 설정함', global_num)\\\\n    \"\n",
      " '\\\\nprint(global_num)\\\\nlocalscope3()\\\\nprint(global_num)\\\\n\\\\n\\\\n# '\n",
      " '비추천(global을 붙인다.)\", \\'# 만약 로컬 스코프에서 내가 글로벌 값을 쓰고 싶다면, 인자로 넘겨서 독립된 공간에서 '\n",
      " '활용시키는게 낫다.\\\\n\\\\nglobal_num = 5\\\\ndef localscope4(g):\\\\n    print(g)\\\\n    '\n",
      " \"\\\\nlocalscope4(global_num)', '# 만약 로컬 스코프에 있는 값을 내가 글로벌에서 쓰고 싶다면, 리턴을 \"\n",
      " '해라!\\\\n\\\\ndef localscope5():\\\\n    global_num = 6\\\\n    return '\n",
      " \"global_num\\\\n\\\\nglobal_num = localscope5()\\\\nprint(global_num)', '# 만약 로컬 \"\n",
      " '스코프에 있는 값을 내가 글로벌에서 쓰고 싶다면, 리턴을 해라!\\\\n\\\\ndef localscope5():\\\\n    global_num '\n",
      " '= 6\\\\n    return global_num\\\\n\\\\nglobal_num = '\n",
      " \"localscope5()\\\\nprint(global_num)', '# 만약 로컬 스코프에 있는 값을 내가 글로벌에서 쓰고 싶다면, 리턴을 \"\n",
      " '해라!\\\\n\\\\ndef localscope5():\\\\n    global_num = 6\\\\n    return '\n",
      " \"global_num\\\\n\\\\nglobal_num = localscope5()\\\\nprint(global_num)', '# 만약 로컬 \"\n",
      " '스코프에 있는 값을 내가 글로벌에서 쓰고 싶다면, 리턴을 해라!\\\\n\\\\ndef localscope5():\\\\n    global_num '\n",
      " '= 6\\\\n    return global_num\\\\n\\\\nglobal_num = '\n",
      " \"localscope5()\\\\nprint(global_num)', '# 만약 로컬 스코프에 있는 값을 내가 글로벌에서 쓰고 싶다면, 리턴을 \"\n",
      " '해라!\\\\n\\\\ndef localscope5():\\\\n    global_num = 6\\\\n    return '\n",
      " \"global_num\\\\n\\\\nglobal_num = localscope5()\\\\nprint(global_num)', '# 만약 로컬 \"\n",
      " '스코프에 있는 값을 내가 글로벌에서 쓰고 싶다면, 리턴을 해라!\\\\n\\\\ndef localscope5():\\\\n    global_num '\n",
      " '= 6\\\\n    return global_num\\\\n\\\\nglobal_num = '\n",
      " \"localscope5()\\\\nprint(global_num)', '# 따라서 첫시간에 내장함수의 식별자를 사용할 수 없었던 예제에서 \"\n",
      " '오류가 생기는 이유를 확인할 수 있습니다.\\\\n\\\\n# LEGB\\\\nprint(str(4))\\\\nstr = '\n",
      " \"4\\\\nprint(str(4))', '# 따라서 첫시간에 내장함수의 식별자를 사용할 수 없었던 예제에서 오류가 생기는 이유를 확인할 수 \"\n",
      " \"있습니다.\\\\n\\\\n# LEGB\\\\nprint(str(4))\\\\nstr = 4\\\\nprint(str(4))', '# print(a)에 \"\n",
      " '무엇이 출력되는지 확인해보세요.\\\\na = 1\\\\ndef localscope(a):\\\\n    print(a)\\\\n    '\n",
      " '\\\\nlocalscope(3)\\', \"import pprint\\\\n\\\\na = 1\\\\npprint.pprint(f\\'글로벌 '\n",
      " \"스코프{locals()}')#로컬\\\\npprint.pprint(f'글로벌의 로컬{globals()}')#글로벌\\\\n\\\\ndef \"\n",
      " \"localscope(a):\\\\n    pprint.pprint(f'로컬 스코프{locals()}')#로컬\\\\n    \"\n",
      " \"pprint.pprint(f'로컬 스코프{globals()}')#글로벌\\\\n    pprint.pprint(a)   \"\n",
      " '\\\\nlocalscope(3)\\\\npprint.pprint(f\\'글로벌 스코프{locals()}\\')#글로벌\"], \\'_oh\\': {}, '\n",
      " \"'_dh': ['C:\\\\\\\\Users\\\\\\\\student\\\\\\\\Desktop\\\\\\\\코드공부\\\\\\\\python\\\\\\\\notes 03'], \"\n",
      " '\\'In\\': [\\'\\', \"# 굳이 전역에 있는 변수를 바꾸고 싶다면, 아래와 같이 선언할 수 있습니다.\\\\n\\\\nglobal_num '\n",
      " '= 5\\\\n\\\\ndef localscope3():\\\\n    global global_num\\\\n    global_num = '\n",
      " \"5\\\\n    print('local에서 설정함', global_num)\\\\n    \"\n",
      " '\\\\nprint(global_num)\\\\nlocalscope3()\\\\nprint(global_num)\\\\n\\\\n\\\\n# '\n",
      " '비추천(global을 붙인다.)\", \\'# 만약 로컬 스코프에서 내가 글로벌 값을 쓰고 싶다면, 인자로 넘겨서 독립된 공간에서 '\n",
      " '활용시키는게 낫다.\\\\n\\\\nglobal_num = 5\\\\ndef localscope4(g):\\\\n    print(g)\\\\n    '\n",
      " \"\\\\nlocalscope4(global_num)', '# 만약 로컬 스코프에 있는 값을 내가 글로벌에서 쓰고 싶다면, 리턴을 \"\n",
      " '해라!\\\\n\\\\ndef localscope5():\\\\n    global_num = 6\\\\n    return '\n",
      " \"global_num\\\\n\\\\nglobal_num = localscope5()\\\\nprint(global_num)', '# 만약 로컬 \"\n",
      " '스코프에 있는 값을 내가 글로벌에서 쓰고 싶다면, 리턴을 해라!\\\\n\\\\ndef localscope5():\\\\n    global_num '\n",
      " '= 6\\\\n    return global_num\\\\n\\\\nglobal_num = '\n",
      " \"localscope5()\\\\nprint(global_num)', '# 만약 로컬 스코프에 있는 값을 내가 글로벌에서 쓰고 싶다면, 리턴을 \"\n",
      " '해라!\\\\n\\\\ndef localscope5():\\\\n    global_num = 6\\\\n    return '\n",
      " \"global_num\\\\n\\\\nglobal_num = localscope5()\\\\nprint(global_num)', '# 만약 로컬 \"\n",
      " '스코프에 있는 값을 내가 글로벌에서 쓰고 싶다면, 리턴을 해라!\\\\n\\\\ndef localscope5():\\\\n    global_num '\n",
      " '= 6\\\\n    return global_num\\\\n\\\\nglobal_num = '\n",
      " \"localscope5()\\\\nprint(global_num)', '# 만약 로컬 스코프에 있는 값을 내가 글로벌에서 쓰고 싶다면, 리턴을 \"\n",
      " '해라!\\\\n\\\\ndef localscope5():\\\\n    global_num = 6\\\\n    return '\n",
      " \"global_num\\\\n\\\\nglobal_num = localscope5()\\\\nprint(global_num)', '# 만약 로컬 \"\n",
      " '스코프에 있는 값을 내가 글로벌에서 쓰고 싶다면, 리턴을 해라!\\\\n\\\\ndef localscope5():\\\\n    global_num '\n",
      " '= 6\\\\n    return global_num\\\\n\\\\nglobal_num = '\n",
      " \"localscope5()\\\\nprint(global_num)', '# 따라서 첫시간에 내장함수의 식별자를 사용할 수 없었던 예제에서 \"\n",
      " '오류가 생기는 이유를 확인할 수 있습니다.\\\\n\\\\n# LEGB\\\\nprint(str(4))\\\\nstr = '\n",
      " \"4\\\\nprint(str(4))', '# 따라서 첫시간에 내장함수의 식별자를 사용할 수 없었던 예제에서 오류가 생기는 이유를 확인할 수 \"\n",
      " \"있습니다.\\\\n\\\\n# LEGB\\\\nprint(str(4))\\\\nstr = 4\\\\nprint(str(4))', '# print(a)에 \"\n",
      " '무엇이 출력되는지 확인해보세요.\\\\na = 1\\\\ndef localscope(a):\\\\n    print(a)\\\\n    '\n",
      " '\\\\nlocalscope(3)\\', \"import pprint\\\\n\\\\na = 1\\\\npprint.pprint(f\\'글로벌 '\n",
      " \"스코프{locals()}')#로컬\\\\npprint.pprint(f'글로벌의 로컬{globals()}')#글로벌\\\\n\\\\ndef \"\n",
      " \"localscope(a):\\\\n    pprint.pprint(f'로컬 스코프{locals()}')#로컬\\\\n    \"\n",
      " \"pprint.pprint(f'로컬 스코프{globals()}')#글로벌\\\\n    pprint.pprint(a)   \"\n",
      " '\\\\nlocalscope(3)\\\\npprint.pprint(f\\'글로벌 스코프{locals()}\\')#글로벌\"], \\'Out\\': {}, '\n",
      " \"'get_ipython': <bound method InteractiveShell.get_ipython of \"\n",
      " \"<ipykernel.zmqshell.ZMQInteractiveShell object at 0x05003910>>, 'exit': \"\n",
      " \"<IPython.core.autocall.ZMQExitAutocall object at 0x05F95EB0>, 'quit': \"\n",
      " \"<IPython.core.autocall.ZMQExitAutocall object at 0x05F95EB0>, '_': '', '__': \"\n",
      " \"'', '___': '', '_i': '# print(a)에 무엇이 출력되는지 확인해보세요.\\\\na = 1\\\\ndef \"\n",
      " \"localscope(a):\\\\n    print(a)\\\\n    \\\\nlocalscope(3)', '_ii': '# 따라서 첫시간에 \"\n",
      " '내장함수의 식별자를 사용할 수 없었던 예제에서 오류가 생기는 이유를 확인할 수 있습니다.\\\\n\\\\n# '\n",
      " \"LEGB\\\\nprint(str(4))\\\\nstr = 4\\\\nprint(str(4))', '_iii': '# 따라서 첫시간에 내장함수의 \"\n",
      " '식별자를 사용할 수 없었던 예제에서 오류가 생기는 이유를 확인할 수 있습니다.\\\\n\\\\n# '\n",
      " 'LEGB\\\\nprint(str(4))\\\\nstr = 4\\\\nprint(str(4))\\', \\'_i1\\': \"# 굳이 전역에 있는 변수를 '\n",
      " '바꾸고 싶다면, 아래와 같이 선언할 수 있습니다.\\\\n\\\\nglobal_num = 5\\\\n\\\\ndef '\n",
      " 'localscope3():\\\\n    global global_num\\\\n    global_num = 5\\\\n    '\n",
      " \"print('local에서 설정함', global_num)\\\\n    \"\n",
      " '\\\\nprint(global_num)\\\\nlocalscope3()\\\\nprint(global_num)\\\\n\\\\n\\\\n# '\n",
      " '비추천(global을 붙인다.)\", \\'global_num\\': 6, \\'localscope3\\': <function '\n",
      " \"localscope3 at 0x0628A390>, '_i2': '# 만약 로컬 스코프에서 내가 글로벌 값을 쓰고 싶다면, 인자로 넘겨서 \"\n",
      " '독립된 공간에서 활용시키는게 낫다.\\\\n\\\\nglobal_num = 5\\\\ndef localscope4(g):\\\\n    '\n",
      " \"print(g)\\\\n    \\\\nlocalscope4(global_num)', 'localscope4': <function \"\n",
      " \"localscope4 at 0x0628A348>, '_i3': '# 만약 로컬 스코프에 있는 값을 내가 글로벌에서 쓰고 싶다면, 리턴을 \"\n",
      " '해라!\\\\n\\\\ndef localscope5():\\\\n    global_num = 6\\\\n    return '\n",
      " \"global_num\\\\n\\\\nglobal_num = localscope5()\\\\nprint(global_num)', \"\n",
      " \"'localscope5': <function localscope5 at 0x0628A978>, '_i4': '# 만약 로컬 스코프에 있는 \"\n",
      " '값을 내가 글로벌에서 쓰고 싶다면, 리턴을 해라!\\\\n\\\\ndef localscope5():\\\\n    global_num = '\n",
      " '6\\\\n    return global_num\\\\n\\\\nglobal_num = '\n",
      " \"localscope5()\\\\nprint(global_num)', '_i5': '# 만약 로컬 스코프에 있는 값을 내가 글로벌에서 쓰고 \"\n",
      " '싶다면, 리턴을 해라!\\\\n\\\\ndef localscope5():\\\\n    global_num = 6\\\\n    return '\n",
      " \"global_num\\\\n\\\\nglobal_num = localscope5()\\\\nprint(global_num)', '_i6': '# \"\n",
      " '만약 로컬 스코프에 있는 값을 내가 글로벌에서 쓰고 싶다면, 리턴을 해라!\\\\n\\\\ndef localscope5():\\\\n    '\n",
      " 'global_num = 6\\\\n    return global_num\\\\n\\\\nglobal_num = '\n",
      " \"localscope5()\\\\nprint(global_num)', '_i7': '# 만약 로컬 스코프에 있는 값을 내가 글로벌에서 쓰고 \"\n",
      " '싶다면, 리턴을 해라!\\\\n\\\\ndef localscope5():\\\\n    global_num = 6\\\\n    return '\n",
      " \"global_num\\\\n\\\\nglobal_num = localscope5()\\\\nprint(global_num)', '_i8': '# \"\n",
      " '만약 로컬 스코프에 있는 값을 내가 글로벌에서 쓰고 싶다면, 리턴을 해라!\\\\n\\\\ndef localscope5():\\\\n    '\n",
      " 'global_num = 6\\\\n    return global_num\\\\n\\\\nglobal_num = '\n",
      " \"localscope5()\\\\nprint(global_num)', '_i9': '# 따라서 첫시간에 내장함수의 식별자를 사용할 수 없었던 \"\n",
      " '예제에서 오류가 생기는 이유를 확인할 수 있습니다.\\\\n\\\\n# LEGB\\\\nprint(str(4))\\\\nstr = '\n",
      " \"4\\\\nprint(str(4))', 'str': 4, '_i10': '# 따라서 첫시간에 내장함수의 식별자를 사용할 수 없었던 예제에서 \"\n",
      " '오류가 생기는 이유를 확인할 수 있습니다.\\\\n\\\\n# LEGB\\\\nprint(str(4))\\\\nstr = '\n",
      " \"4\\\\nprint(str(4))', '_i11': '# print(a)에 무엇이 출력되는지 확인해보세요.\\\\na = 1\\\\ndef \"\n",
      " \"localscope(a):\\\\n    print(a)\\\\n    \\\\nlocalscope(3)', 'a': 1, 'localscope': \"\n",
      " '<function localscope at 0x012218A0>, \\'_i12\\': \"import pprint\\\\n\\\\na = '\n",
      " \"1\\\\npprint.pprint(f'글로벌 스코프{locals()}')#로컬\\\\npprint.pprint(f'글로벌의 \"\n",
      " \"로컬{globals()}')#글로벌\\\\n\\\\ndef localscope(a):\\\\n    pprint.pprint(f'로컬 \"\n",
      " \"스코프{locals()}')#로컬\\\\n    pprint.pprint(f'로컬 스코프{globals()}')#글로벌\\\\n    \"\n",
      " \"pprint.pprint(a)   \\\\nlocalscope(3)\\\\npprint.pprint(f'글로벌 \"\n",
      " '스코프{locals()}\\')#글로벌\", \\'pprint\\': <module \\'pprint\\' from '\n",
      " \"'c:\\\\\\\\users\\\\\\\\student\\\\\\\\appdata\\\\\\\\local\\\\\\\\programs\\\\\\\\python\\\\\\\\python37-32\\\\\\\\lib\\\\\\\\pprint.py'>}\")\n",
      "\"로컬 스코프{'a': 3}\"\n",
      "(\"로컬 스코프{'__name__': '__main__', '__doc__': 'Automatically created module for \"\n",
      " \"IPython interactive environment', '__package__': None, '__loader__': None, \"\n",
      " \"'__spec__': None, '__builtin__': <module 'builtins' (built-in)>, \"\n",
      " '\\'__builtins__\\': <module \\'builtins\\' (built-in)>, \\'_ih\\': [\\'\\', \"# 굳이 '\n",
      " '전역에 있는 변수를 바꾸고 싶다면, 아래와 같이 선언할 수 있습니다.\\\\n\\\\nglobal_num = 5\\\\n\\\\ndef '\n",
      " 'localscope3():\\\\n    global global_num\\\\n    global_num = 5\\\\n    '\n",
      " \"print('local에서 설정함', global_num)\\\\n    \"\n",
      " '\\\\nprint(global_num)\\\\nlocalscope3()\\\\nprint(global_num)\\\\n\\\\n\\\\n# '\n",
      " '비추천(global을 붙인다.)\", \\'# 만약 로컬 스코프에서 내가 글로벌 값을 쓰고 싶다면, 인자로 넘겨서 독립된 공간에서 '\n",
      " '활용시키는게 낫다.\\\\n\\\\nglobal_num = 5\\\\ndef localscope4(g):\\\\n    print(g)\\\\n    '\n",
      " \"\\\\nlocalscope4(global_num)', '# 만약 로컬 스코프에 있는 값을 내가 글로벌에서 쓰고 싶다면, 리턴을 \"\n",
      " '해라!\\\\n\\\\ndef localscope5():\\\\n    global_num = 6\\\\n    return '\n",
      " \"global_num\\\\n\\\\nglobal_num = localscope5()\\\\nprint(global_num)', '# 만약 로컬 \"\n",
      " '스코프에 있는 값을 내가 글로벌에서 쓰고 싶다면, 리턴을 해라!\\\\n\\\\ndef localscope5():\\\\n    global_num '\n",
      " '= 6\\\\n    return global_num\\\\n\\\\nglobal_num = '\n",
      " \"localscope5()\\\\nprint(global_num)', '# 만약 로컬 스코프에 있는 값을 내가 글로벌에서 쓰고 싶다면, 리턴을 \"\n",
      " '해라!\\\\n\\\\ndef localscope5():\\\\n    global_num = 6\\\\n    return '\n",
      " \"global_num\\\\n\\\\nglobal_num = localscope5()\\\\nprint(global_num)', '# 만약 로컬 \"\n",
      " '스코프에 있는 값을 내가 글로벌에서 쓰고 싶다면, 리턴을 해라!\\\\n\\\\ndef localscope5():\\\\n    global_num '\n",
      " '= 6\\\\n    return global_num\\\\n\\\\nglobal_num = '\n",
      " \"localscope5()\\\\nprint(global_num)', '# 만약 로컬 스코프에 있는 값을 내가 글로벌에서 쓰고 싶다면, 리턴을 \"\n",
      " '해라!\\\\n\\\\ndef localscope5():\\\\n    global_num = 6\\\\n    return '\n",
      " \"global_num\\\\n\\\\nglobal_num = localscope5()\\\\nprint(global_num)', '# 만약 로컬 \"\n",
      " '스코프에 있는 값을 내가 글로벌에서 쓰고 싶다면, 리턴을 해라!\\\\n\\\\ndef localscope5():\\\\n    global_num '\n",
      " '= 6\\\\n    return global_num\\\\n\\\\nglobal_num = '\n",
      " \"localscope5()\\\\nprint(global_num)', '# 따라서 첫시간에 내장함수의 식별자를 사용할 수 없었던 예제에서 \"\n",
      " '오류가 생기는 이유를 확인할 수 있습니다.\\\\n\\\\n# LEGB\\\\nprint(str(4))\\\\nstr = '\n",
      " \"4\\\\nprint(str(4))', '# 따라서 첫시간에 내장함수의 식별자를 사용할 수 없었던 예제에서 오류가 생기는 이유를 확인할 수 \"\n",
      " \"있습니다.\\\\n\\\\n# LEGB\\\\nprint(str(4))\\\\nstr = 4\\\\nprint(str(4))', '# print(a)에 \"\n",
      " '무엇이 출력되는지 확인해보세요.\\\\na = 1\\\\ndef localscope(a):\\\\n    print(a)\\\\n    '\n",
      " '\\\\nlocalscope(3)\\', \"import pprint\\\\n\\\\na = 1\\\\npprint.pprint(f\\'글로벌 '\n",
      " \"스코프{locals()}')#로컬\\\\npprint.pprint(f'글로벌의 로컬{globals()}')#글로벌\\\\n\\\\ndef \"\n",
      " \"localscope(a):\\\\n    pprint.pprint(f'로컬 스코프{locals()}')#로컬\\\\n    \"\n",
      " \"pprint.pprint(f'로컬 스코프{globals()}')#글로벌\\\\n    pprint.pprint(a)   \"\n",
      " '\\\\nlocalscope(3)\\\\npprint.pprint(f\\'글로벌 스코프{locals()}\\')#글로벌\"], \\'_oh\\': {}, '\n",
      " \"'_dh': ['C:\\\\\\\\Users\\\\\\\\student\\\\\\\\Desktop\\\\\\\\코드공부\\\\\\\\python\\\\\\\\notes 03'], \"\n",
      " '\\'In\\': [\\'\\', \"# 굳이 전역에 있는 변수를 바꾸고 싶다면, 아래와 같이 선언할 수 있습니다.\\\\n\\\\nglobal_num '\n",
      " '= 5\\\\n\\\\ndef localscope3():\\\\n    global global_num\\\\n    global_num = '\n",
      " \"5\\\\n    print('local에서 설정함', global_num)\\\\n    \"\n",
      " '\\\\nprint(global_num)\\\\nlocalscope3()\\\\nprint(global_num)\\\\n\\\\n\\\\n# '\n",
      " '비추천(global을 붙인다.)\", \\'# 만약 로컬 스코프에서 내가 글로벌 값을 쓰고 싶다면, 인자로 넘겨서 독립된 공간에서 '\n",
      " '활용시키는게 낫다.\\\\n\\\\nglobal_num = 5\\\\ndef localscope4(g):\\\\n    print(g)\\\\n    '\n",
      " \"\\\\nlocalscope4(global_num)', '# 만약 로컬 스코프에 있는 값을 내가 글로벌에서 쓰고 싶다면, 리턴을 \"\n",
      " '해라!\\\\n\\\\ndef localscope5():\\\\n    global_num = 6\\\\n    return '\n",
      " \"global_num\\\\n\\\\nglobal_num = localscope5()\\\\nprint(global_num)', '# 만약 로컬 \"\n",
      " '스코프에 있는 값을 내가 글로벌에서 쓰고 싶다면, 리턴을 해라!\\\\n\\\\ndef localscope5():\\\\n    global_num '\n",
      " '= 6\\\\n    return global_num\\\\n\\\\nglobal_num = '\n",
      " \"localscope5()\\\\nprint(global_num)', '# 만약 로컬 스코프에 있는 값을 내가 글로벌에서 쓰고 싶다면, 리턴을 \"\n",
      " '해라!\\\\n\\\\ndef localscope5():\\\\n    global_num = 6\\\\n    return '\n",
      " \"global_num\\\\n\\\\nglobal_num = localscope5()\\\\nprint(global_num)', '# 만약 로컬 \"\n",
      " '스코프에 있는 값을 내가 글로벌에서 쓰고 싶다면, 리턴을 해라!\\\\n\\\\ndef localscope5():\\\\n    global_num '\n",
      " '= 6\\\\n    return global_num\\\\n\\\\nglobal_num = '\n",
      " \"localscope5()\\\\nprint(global_num)', '# 만약 로컬 스코프에 있는 값을 내가 글로벌에서 쓰고 싶다면, 리턴을 \"\n",
      " '해라!\\\\n\\\\ndef localscope5():\\\\n    global_num = 6\\\\n    return '\n",
      " \"global_num\\\\n\\\\nglobal_num = localscope5()\\\\nprint(global_num)', '# 만약 로컬 \"\n",
      " '스코프에 있는 값을 내가 글로벌에서 쓰고 싶다면, 리턴을 해라!\\\\n\\\\ndef localscope5():\\\\n    global_num '\n",
      " '= 6\\\\n    return global_num\\\\n\\\\nglobal_num = '\n",
      " \"localscope5()\\\\nprint(global_num)', '# 따라서 첫시간에 내장함수의 식별자를 사용할 수 없었던 예제에서 \"\n",
      " '오류가 생기는 이유를 확인할 수 있습니다.\\\\n\\\\n# LEGB\\\\nprint(str(4))\\\\nstr = '\n",
      " \"4\\\\nprint(str(4))', '# 따라서 첫시간에 내장함수의 식별자를 사용할 수 없었던 예제에서 오류가 생기는 이유를 확인할 수 \"\n",
      " \"있습니다.\\\\n\\\\n# LEGB\\\\nprint(str(4))\\\\nstr = 4\\\\nprint(str(4))', '# print(a)에 \"\n",
      " '무엇이 출력되는지 확인해보세요.\\\\na = 1\\\\ndef localscope(a):\\\\n    print(a)\\\\n    '\n",
      " '\\\\nlocalscope(3)\\', \"import pprint\\\\n\\\\na = 1\\\\npprint.pprint(f\\'글로벌 '\n",
      " \"스코프{locals()}')#로컬\\\\npprint.pprint(f'글로벌의 로컬{globals()}')#글로벌\\\\n\\\\ndef \"\n",
      " \"localscope(a):\\\\n    pprint.pprint(f'로컬 스코프{locals()}')#로컬\\\\n    \"\n",
      " \"pprint.pprint(f'로컬 스코프{globals()}')#글로벌\\\\n    pprint.pprint(a)   \"\n",
      " '\\\\nlocalscope(3)\\\\npprint.pprint(f\\'글로벌 스코프{locals()}\\')#글로벌\"], \\'Out\\': {}, '\n",
      " \"'get_ipython': <bound method InteractiveShell.get_ipython of \"\n",
      " \"<ipykernel.zmqshell.ZMQInteractiveShell object at 0x05003910>>, 'exit': \"\n",
      " \"<IPython.core.autocall.ZMQExitAutocall object at 0x05F95EB0>, 'quit': \"\n",
      " \"<IPython.core.autocall.ZMQExitAutocall object at 0x05F95EB0>, '_': '', '__': \"\n",
      " \"'', '___': '', '_i': '# print(a)에 무엇이 출력되는지 확인해보세요.\\\\na = 1\\\\ndef \"\n",
      " \"localscope(a):\\\\n    print(a)\\\\n    \\\\nlocalscope(3)', '_ii': '# 따라서 첫시간에 \"\n",
      " '내장함수의 식별자를 사용할 수 없었던 예제에서 오류가 생기는 이유를 확인할 수 있습니다.\\\\n\\\\n# '\n",
      " \"LEGB\\\\nprint(str(4))\\\\nstr = 4\\\\nprint(str(4))', '_iii': '# 따라서 첫시간에 내장함수의 \"\n",
      " '식별자를 사용할 수 없었던 예제에서 오류가 생기는 이유를 확인할 수 있습니다.\\\\n\\\\n# '\n",
      " 'LEGB\\\\nprint(str(4))\\\\nstr = 4\\\\nprint(str(4))\\', \\'_i1\\': \"# 굳이 전역에 있는 변수를 '\n",
      " '바꾸고 싶다면, 아래와 같이 선언할 수 있습니다.\\\\n\\\\nglobal_num = 5\\\\n\\\\ndef '\n",
      " 'localscope3():\\\\n    global global_num\\\\n    global_num = 5\\\\n    '\n",
      " \"print('local에서 설정함', global_num)\\\\n    \"\n",
      " '\\\\nprint(global_num)\\\\nlocalscope3()\\\\nprint(global_num)\\\\n\\\\n\\\\n# '\n",
      " '비추천(global을 붙인다.)\", \\'global_num\\': 6, \\'localscope3\\': <function '\n",
      " \"localscope3 at 0x0628A390>, '_i2': '# 만약 로컬 스코프에서 내가 글로벌 값을 쓰고 싶다면, 인자로 넘겨서 \"\n",
      " '독립된 공간에서 활용시키는게 낫다.\\\\n\\\\nglobal_num = 5\\\\ndef localscope4(g):\\\\n    '\n",
      " \"print(g)\\\\n    \\\\nlocalscope4(global_num)', 'localscope4': <function \"\n",
      " \"localscope4 at 0x0628A348>, '_i3': '# 만약 로컬 스코프에 있는 값을 내가 글로벌에서 쓰고 싶다면, 리턴을 \"\n",
      " '해라!\\\\n\\\\ndef localscope5():\\\\n    global_num = 6\\\\n    return '\n",
      " \"global_num\\\\n\\\\nglobal_num = localscope5()\\\\nprint(global_num)', \"\n",
      " \"'localscope5': <function localscope5 at 0x0628A978>, '_i4': '# 만약 로컬 스코프에 있는 \"\n",
      " '값을 내가 글로벌에서 쓰고 싶다면, 리턴을 해라!\\\\n\\\\ndef localscope5():\\\\n    global_num = '\n",
      " '6\\\\n    return global_num\\\\n\\\\nglobal_num = '\n",
      " \"localscope5()\\\\nprint(global_num)', '_i5': '# 만약 로컬 스코프에 있는 값을 내가 글로벌에서 쓰고 \"\n",
      " '싶다면, 리턴을 해라!\\\\n\\\\ndef localscope5():\\\\n    global_num = 6\\\\n    return '\n",
      " \"global_num\\\\n\\\\nglobal_num = localscope5()\\\\nprint(global_num)', '_i6': '# \"\n",
      " '만약 로컬 스코프에 있는 값을 내가 글로벌에서 쓰고 싶다면, 리턴을 해라!\\\\n\\\\ndef localscope5():\\\\n    '\n",
      " 'global_num = 6\\\\n    return global_num\\\\n\\\\nglobal_num = '\n",
      " \"localscope5()\\\\nprint(global_num)', '_i7': '# 만약 로컬 스코프에 있는 값을 내가 글로벌에서 쓰고 \"\n",
      " '싶다면, 리턴을 해라!\\\\n\\\\ndef localscope5():\\\\n    global_num = 6\\\\n    return '\n",
      " \"global_num\\\\n\\\\nglobal_num = localscope5()\\\\nprint(global_num)', '_i8': '# \"\n",
      " '만약 로컬 스코프에 있는 값을 내가 글로벌에서 쓰고 싶다면, 리턴을 해라!\\\\n\\\\ndef localscope5():\\\\n    '\n",
      " 'global_num = 6\\\\n    return global_num\\\\n\\\\nglobal_num = '\n",
      " \"localscope5()\\\\nprint(global_num)', '_i9': '# 따라서 첫시간에 내장함수의 식별자를 사용할 수 없었던 \"\n",
      " '예제에서 오류가 생기는 이유를 확인할 수 있습니다.\\\\n\\\\n# LEGB\\\\nprint(str(4))\\\\nstr = '\n",
      " \"4\\\\nprint(str(4))', 'str': 4, '_i10': '# 따라서 첫시간에 내장함수의 식별자를 사용할 수 없었던 예제에서 \"\n",
      " '오류가 생기는 이유를 확인할 수 있습니다.\\\\n\\\\n# LEGB\\\\nprint(str(4))\\\\nstr = '\n",
      " \"4\\\\nprint(str(4))', '_i11': '# print(a)에 무엇이 출력되는지 확인해보세요.\\\\na = 1\\\\ndef \"\n",
      " \"localscope(a):\\\\n    print(a)\\\\n    \\\\nlocalscope(3)', 'a': 1, 'localscope': \"\n",
      " '<function localscope at 0x012219C0>, \\'_i12\\': \"import pprint\\\\n\\\\na = '\n",
      " \"1\\\\npprint.pprint(f'글로벌 스코프{locals()}')#로컬\\\\npprint.pprint(f'글로벌의 \"\n",
      " \"로컬{globals()}')#글로벌\\\\n\\\\ndef localscope(a):\\\\n    pprint.pprint(f'로컬 \"\n",
      " \"스코프{locals()}')#로컬\\\\n    pprint.pprint(f'로컬 스코프{globals()}')#글로벌\\\\n    \"\n",
      " \"pprint.pprint(a)   \\\\nlocalscope(3)\\\\npprint.pprint(f'글로벌 \"\n",
      " '스코프{locals()}\\')#글로벌\", \\'pprint\\': <module \\'pprint\\' from '\n",
      " \"'c:\\\\\\\\users\\\\\\\\student\\\\\\\\appdata\\\\\\\\local\\\\\\\\programs\\\\\\\\python\\\\\\\\python37-32\\\\\\\\lib\\\\\\\\pprint.py'>}\")\n",
      "3\n",
      "(\"글로벌 스코프{'__name__': '__main__', '__doc__': 'Automatically created module for \"\n",
      " \"IPython interactive environment', '__package__': None, '__loader__': None, \"\n",
      " \"'__spec__': None, '__builtin__': <module 'builtins' (built-in)>, \"\n",
      " '\\'__builtins__\\': <module \\'builtins\\' (built-in)>, \\'_ih\\': [\\'\\', \"# 굳이 '\n",
      " '전역에 있는 변수를 바꾸고 싶다면, 아래와 같이 선언할 수 있습니다.\\\\n\\\\nglobal_num = 5\\\\n\\\\ndef '\n",
      " 'localscope3():\\\\n    global global_num\\\\n    global_num = 5\\\\n    '\n",
      " \"print('local에서 설정함', global_num)\\\\n    \"\n",
      " '\\\\nprint(global_num)\\\\nlocalscope3()\\\\nprint(global_num)\\\\n\\\\n\\\\n# '\n",
      " '비추천(global을 붙인다.)\", \\'# 만약 로컬 스코프에서 내가 글로벌 값을 쓰고 싶다면, 인자로 넘겨서 독립된 공간에서 '\n",
      " '활용시키는게 낫다.\\\\n\\\\nglobal_num = 5\\\\ndef localscope4(g):\\\\n    print(g)\\\\n    '\n",
      " \"\\\\nlocalscope4(global_num)', '# 만약 로컬 스코프에 있는 값을 내가 글로벌에서 쓰고 싶다면, 리턴을 \"\n",
      " '해라!\\\\n\\\\ndef localscope5():\\\\n    global_num = 6\\\\n    return '\n",
      " \"global_num\\\\n\\\\nglobal_num = localscope5()\\\\nprint(global_num)', '# 만약 로컬 \"\n",
      " '스코프에 있는 값을 내가 글로벌에서 쓰고 싶다면, 리턴을 해라!\\\\n\\\\ndef localscope5():\\\\n    global_num '\n",
      " '= 6\\\\n    return global_num\\\\n\\\\nglobal_num = '\n",
      " \"localscope5()\\\\nprint(global_num)', '# 만약 로컬 스코프에 있는 값을 내가 글로벌에서 쓰고 싶다면, 리턴을 \"\n",
      " '해라!\\\\n\\\\ndef localscope5():\\\\n    global_num = 6\\\\n    return '\n",
      " \"global_num\\\\n\\\\nglobal_num = localscope5()\\\\nprint(global_num)', '# 만약 로컬 \"\n",
      " '스코프에 있는 값을 내가 글로벌에서 쓰고 싶다면, 리턴을 해라!\\\\n\\\\ndef localscope5():\\\\n    global_num '\n",
      " '= 6\\\\n    return global_num\\\\n\\\\nglobal_num = '\n",
      " \"localscope5()\\\\nprint(global_num)', '# 만약 로컬 스코프에 있는 값을 내가 글로벌에서 쓰고 싶다면, 리턴을 \"\n",
      " '해라!\\\\n\\\\ndef localscope5():\\\\n    global_num = 6\\\\n    return '\n",
      " \"global_num\\\\n\\\\nglobal_num = localscope5()\\\\nprint(global_num)', '# 만약 로컬 \"\n",
      " '스코프에 있는 값을 내가 글로벌에서 쓰고 싶다면, 리턴을 해라!\\\\n\\\\ndef localscope5():\\\\n    global_num '\n",
      " '= 6\\\\n    return global_num\\\\n\\\\nglobal_num = '\n",
      " \"localscope5()\\\\nprint(global_num)', '# 따라서 첫시간에 내장함수의 식별자를 사용할 수 없었던 예제에서 \"\n",
      " '오류가 생기는 이유를 확인할 수 있습니다.\\\\n\\\\n# LEGB\\\\nprint(str(4))\\\\nstr = '\n",
      " \"4\\\\nprint(str(4))', '# 따라서 첫시간에 내장함수의 식별자를 사용할 수 없었던 예제에서 오류가 생기는 이유를 확인할 수 \"\n",
      " \"있습니다.\\\\n\\\\n# LEGB\\\\nprint(str(4))\\\\nstr = 4\\\\nprint(str(4))', '# print(a)에 \"\n",
      " '무엇이 출력되는지 확인해보세요.\\\\na = 1\\\\ndef localscope(a):\\\\n    print(a)\\\\n    '\n",
      " '\\\\nlocalscope(3)\\', \"import pprint\\\\n\\\\na = 1\\\\npprint.pprint(f\\'글로벌 '\n",
      " \"스코프{locals()}')#로컬\\\\npprint.pprint(f'글로벌의 로컬{globals()}')#글로벌\\\\n\\\\ndef \"\n",
      " \"localscope(a):\\\\n    pprint.pprint(f'로컬 스코프{locals()}')#로컬\\\\n    \"\n",
      " \"pprint.pprint(f'로컬 스코프{globals()}')#글로벌\\\\n    pprint.pprint(a)   \"\n",
      " '\\\\nlocalscope(3)\\\\npprint.pprint(f\\'글로벌 스코프{locals()}\\')#글로벌\"], \\'_oh\\': {}, '\n",
      " \"'_dh': ['C:\\\\\\\\Users\\\\\\\\student\\\\\\\\Desktop\\\\\\\\코드공부\\\\\\\\python\\\\\\\\notes 03'], \"\n",
      " '\\'In\\': [\\'\\', \"# 굳이 전역에 있는 변수를 바꾸고 싶다면, 아래와 같이 선언할 수 있습니다.\\\\n\\\\nglobal_num '\n",
      " '= 5\\\\n\\\\ndef localscope3():\\\\n    global global_num\\\\n    global_num = '\n",
      " \"5\\\\n    print('local에서 설정함', global_num)\\\\n    \"\n",
      " '\\\\nprint(global_num)\\\\nlocalscope3()\\\\nprint(global_num)\\\\n\\\\n\\\\n# '\n",
      " '비추천(global을 붙인다.)\", \\'# 만약 로컬 스코프에서 내가 글로벌 값을 쓰고 싶다면, 인자로 넘겨서 독립된 공간에서 '\n",
      " '활용시키는게 낫다.\\\\n\\\\nglobal_num = 5\\\\ndef localscope4(g):\\\\n    print(g)\\\\n    '\n",
      " \"\\\\nlocalscope4(global_num)', '# 만약 로컬 스코프에 있는 값을 내가 글로벌에서 쓰고 싶다면, 리턴을 \"\n",
      " '해라!\\\\n\\\\ndef localscope5():\\\\n    global_num = 6\\\\n    return '\n",
      " \"global_num\\\\n\\\\nglobal_num = localscope5()\\\\nprint(global_num)', '# 만약 로컬 \"\n",
      " '스코프에 있는 값을 내가 글로벌에서 쓰고 싶다면, 리턴을 해라!\\\\n\\\\ndef localscope5():\\\\n    global_num '\n",
      " '= 6\\\\n    return global_num\\\\n\\\\nglobal_num = '\n",
      " \"localscope5()\\\\nprint(global_num)', '# 만약 로컬 스코프에 있는 값을 내가 글로벌에서 쓰고 싶다면, 리턴을 \"\n",
      " '해라!\\\\n\\\\ndef localscope5():\\\\n    global_num = 6\\\\n    return '\n",
      " \"global_num\\\\n\\\\nglobal_num = localscope5()\\\\nprint(global_num)', '# 만약 로컬 \"\n",
      " '스코프에 있는 값을 내가 글로벌에서 쓰고 싶다면, 리턴을 해라!\\\\n\\\\ndef localscope5():\\\\n    global_num '\n",
      " '= 6\\\\n    return global_num\\\\n\\\\nglobal_num = '\n",
      " \"localscope5()\\\\nprint(global_num)', '# 만약 로컬 스코프에 있는 값을 내가 글로벌에서 쓰고 싶다면, 리턴을 \"\n",
      " '해라!\\\\n\\\\ndef localscope5():\\\\n    global_num = 6\\\\n    return '\n",
      " \"global_num\\\\n\\\\nglobal_num = localscope5()\\\\nprint(global_num)', '# 만약 로컬 \"\n",
      " '스코프에 있는 값을 내가 글로벌에서 쓰고 싶다면, 리턴을 해라!\\\\n\\\\ndef localscope5():\\\\n    global_num '\n",
      " '= 6\\\\n    return global_num\\\\n\\\\nglobal_num = '\n",
      " \"localscope5()\\\\nprint(global_num)', '# 따라서 첫시간에 내장함수의 식별자를 사용할 수 없었던 예제에서 \"\n",
      " '오류가 생기는 이유를 확인할 수 있습니다.\\\\n\\\\n# LEGB\\\\nprint(str(4))\\\\nstr = '\n",
      " \"4\\\\nprint(str(4))', '# 따라서 첫시간에 내장함수의 식별자를 사용할 수 없었던 예제에서 오류가 생기는 이유를 확인할 수 \"\n",
      " \"있습니다.\\\\n\\\\n# LEGB\\\\nprint(str(4))\\\\nstr = 4\\\\nprint(str(4))', '# print(a)에 \"\n",
      " '무엇이 출력되는지 확인해보세요.\\\\na = 1\\\\ndef localscope(a):\\\\n    print(a)\\\\n    '\n",
      " '\\\\nlocalscope(3)\\', \"import pprint\\\\n\\\\na = 1\\\\npprint.pprint(f\\'글로벌 '\n",
      " \"스코프{locals()}')#로컬\\\\npprint.pprint(f'글로벌의 로컬{globals()}')#글로벌\\\\n\\\\ndef \"\n",
      " \"localscope(a):\\\\n    pprint.pprint(f'로컬 스코프{locals()}')#로컬\\\\n    \"\n",
      " \"pprint.pprint(f'로컬 스코프{globals()}')#글로벌\\\\n    pprint.pprint(a)   \"\n",
      " '\\\\nlocalscope(3)\\\\npprint.pprint(f\\'글로벌 스코프{locals()}\\')#글로벌\"], \\'Out\\': {}, '\n",
      " \"'get_ipython': <bound method InteractiveShell.get_ipython of \"\n",
      " \"<ipykernel.zmqshell.ZMQInteractiveShell object at 0x05003910>>, 'exit': \"\n",
      " \"<IPython.core.autocall.ZMQExitAutocall object at 0x05F95EB0>, 'quit': \"\n",
      " \"<IPython.core.autocall.ZMQExitAutocall object at 0x05F95EB0>, '_': '', '__': \"\n",
      " \"'', '___': '', '_i': '# print(a)에 무엇이 출력되는지 확인해보세요.\\\\na = 1\\\\ndef \"\n",
      " \"localscope(a):\\\\n    print(a)\\\\n    \\\\nlocalscope(3)', '_ii': '# 따라서 첫시간에 \"\n",
      " '내장함수의 식별자를 사용할 수 없었던 예제에서 오류가 생기는 이유를 확인할 수 있습니다.\\\\n\\\\n# '\n",
      " \"LEGB\\\\nprint(str(4))\\\\nstr = 4\\\\nprint(str(4))', '_iii': '# 따라서 첫시간에 내장함수의 \"\n",
      " '식별자를 사용할 수 없었던 예제에서 오류가 생기는 이유를 확인할 수 있습니다.\\\\n\\\\n# '\n",
      " 'LEGB\\\\nprint(str(4))\\\\nstr = 4\\\\nprint(str(4))\\', \\'_i1\\': \"# 굳이 전역에 있는 변수를 '\n",
      " '바꾸고 싶다면, 아래와 같이 선언할 수 있습니다.\\\\n\\\\nglobal_num = 5\\\\n\\\\ndef '\n",
      " 'localscope3():\\\\n    global global_num\\\\n    global_num = 5\\\\n    '\n",
      " \"print('local에서 설정함', global_num)\\\\n    \"\n",
      " '\\\\nprint(global_num)\\\\nlocalscope3()\\\\nprint(global_num)\\\\n\\\\n\\\\n# '\n",
      " '비추천(global을 붙인다.)\", \\'global_num\\': 6, \\'localscope3\\': <function '\n",
      " \"localscope3 at 0x0628A390>, '_i2': '# 만약 로컬 스코프에서 내가 글로벌 값을 쓰고 싶다면, 인자로 넘겨서 \"\n",
      " '독립된 공간에서 활용시키는게 낫다.\\\\n\\\\nglobal_num = 5\\\\ndef localscope4(g):\\\\n    '\n",
      " \"print(g)\\\\n    \\\\nlocalscope4(global_num)', 'localscope4': <function \"\n",
      " \"localscope4 at 0x0628A348>, '_i3': '# 만약 로컬 스코프에 있는 값을 내가 글로벌에서 쓰고 싶다면, 리턴을 \"\n",
      " '해라!\\\\n\\\\ndef localscope5():\\\\n    global_num = 6\\\\n    return '\n",
      " \"global_num\\\\n\\\\nglobal_num = localscope5()\\\\nprint(global_num)', \"\n",
      " \"'localscope5': <function localscope5 at 0x0628A978>, '_i4': '# 만약 로컬 스코프에 있는 \"\n",
      " '값을 내가 글로벌에서 쓰고 싶다면, 리턴을 해라!\\\\n\\\\ndef localscope5():\\\\n    global_num = '\n",
      " '6\\\\n    return global_num\\\\n\\\\nglobal_num = '\n",
      " \"localscope5()\\\\nprint(global_num)', '_i5': '# 만약 로컬 스코프에 있는 값을 내가 글로벌에서 쓰고 \"\n",
      " '싶다면, 리턴을 해라!\\\\n\\\\ndef localscope5():\\\\n    global_num = 6\\\\n    return '\n",
      " \"global_num\\\\n\\\\nglobal_num = localscope5()\\\\nprint(global_num)', '_i6': '# \"\n",
      " '만약 로컬 스코프에 있는 값을 내가 글로벌에서 쓰고 싶다면, 리턴을 해라!\\\\n\\\\ndef localscope5():\\\\n    '\n",
      " 'global_num = 6\\\\n    return global_num\\\\n\\\\nglobal_num = '\n",
      " \"localscope5()\\\\nprint(global_num)', '_i7': '# 만약 로컬 스코프에 있는 값을 내가 글로벌에서 쓰고 \"\n",
      " '싶다면, 리턴을 해라!\\\\n\\\\ndef localscope5():\\\\n    global_num = 6\\\\n    return '\n",
      " \"global_num\\\\n\\\\nglobal_num = localscope5()\\\\nprint(global_num)', '_i8': '# \"\n",
      " '만약 로컬 스코프에 있는 값을 내가 글로벌에서 쓰고 싶다면, 리턴을 해라!\\\\n\\\\ndef localscope5():\\\\n    '\n",
      " 'global_num = 6\\\\n    return global_num\\\\n\\\\nglobal_num = '\n",
      " \"localscope5()\\\\nprint(global_num)', '_i9': '# 따라서 첫시간에 내장함수의 식별자를 사용할 수 없었던 \"\n",
      " '예제에서 오류가 생기는 이유를 확인할 수 있습니다.\\\\n\\\\n# LEGB\\\\nprint(str(4))\\\\nstr = '\n",
      " \"4\\\\nprint(str(4))', 'str': 4, '_i10': '# 따라서 첫시간에 내장함수의 식별자를 사용할 수 없었던 예제에서 \"\n",
      " '오류가 생기는 이유를 확인할 수 있습니다.\\\\n\\\\n# LEGB\\\\nprint(str(4))\\\\nstr = '\n",
      " \"4\\\\nprint(str(4))', '_i11': '# print(a)에 무엇이 출력되는지 확인해보세요.\\\\na = 1\\\\ndef \"\n",
      " \"localscope(a):\\\\n    print(a)\\\\n    \\\\nlocalscope(3)', 'a': 1, 'localscope': \"\n",
      " '<function localscope at 0x012219C0>, \\'_i12\\': \"import pprint\\\\n\\\\na = '\n",
      " \"1\\\\npprint.pprint(f'글로벌 스코프{locals()}')#로컬\\\\npprint.pprint(f'글로벌의 \"\n",
      " \"로컬{globals()}')#글로벌\\\\n\\\\ndef localscope(a):\\\\n    pprint.pprint(f'로컬 \"\n",
      " \"스코프{locals()}')#로컬\\\\n    pprint.pprint(f'로컬 스코프{globals()}')#글로벌\\\\n    \"\n",
      " \"pprint.pprint(a)   \\\\nlocalscope(3)\\\\npprint.pprint(f'글로벌 \"\n",
      " '스코프{locals()}\\')#글로벌\", \\'pprint\\': <module \\'pprint\\' from '\n",
      " \"'c:\\\\\\\\users\\\\\\\\student\\\\\\\\appdata\\\\\\\\local\\\\\\\\programs\\\\\\\\python\\\\\\\\python37-32\\\\\\\\lib\\\\\\\\pprint.py'>}\")\n"
     ]
    }
   ],
   "source": [
    "import pprint\n",
    "\n",
    "a = 1\n",
    "pprint.pprint(f'글로벌 스코프{locals()}')#로컬\n",
    "pprint.pprint(f'글로벌의 로컬{globals()}')#글로벌\n",
    "\n",
    "def localscope(a):\n",
    "    pprint.pprint(f'로컬 스코프{locals()}')#로컬\n",
    "    pprint.pprint(f'로컬 스코프{globals()}')#글로벌\n",
    "    pprint.pprint(a)   \n",
    "localscope(3)\n",
    "pprint.pprint(f'글로벌 스코프{locals()}')#글로벌"
   ]
  },
  {
   "cell_type": "code",
   "execution_count": 13,
   "metadata": {},
   "outputs": [
    {
     "name": "stdout",
     "output_type": "stream",
     "text": [
      "3\n",
      "global_num이 5으로 설정되었습니다.\n",
      "3\n"
     ]
    }
   ],
   "source": [
    "# 전역 변수를 바꿀 수 있을까요?\n",
    "\n",
    "# LEGB 중 상위의 함수이므로 바꿀 수 없다.\n",
    "\n",
    "global_num = 3\n",
    "\n",
    "def localscope2():\n",
    "    global_num = 5\n",
    "    print(f'global_num이 {global_num}으로 설정되었습니다.')\n",
    "    \n",
    "print(global_num)\n",
    "localscope2()\n",
    "print(global_num)"
   ]
  },
  {
   "cell_type": "code",
   "execution_count": 17,
   "metadata": {},
   "outputs": [
    {
     "name": "stdout",
     "output_type": "stream",
     "text": [
      "takhee\n"
     ]
    },
    {
     "ename": "NameError",
     "evalue": "name 'takhee' is not defined",
     "output_type": "error",
     "traceback": [
      "\u001b[1;31m---------------------------------------------------------------------------\u001b[0m",
      "\u001b[1;31mNameError\u001b[0m                                 Traceback (most recent call last)",
      "\u001b[1;32m<ipython-input-17-55f5ab55ae4c>\u001b[0m in \u001b[0;36m<module>\u001b[1;34m\u001b[0m\n\u001b[0;32m      5\u001b[0m \u001b[1;33m\u001b[0m\u001b[0m\n\u001b[0;32m      6\u001b[0m \u001b[0mlocalscope3\u001b[0m\u001b[1;33m(\u001b[0m\u001b[1;33m)\u001b[0m\u001b[1;33m\u001b[0m\u001b[1;33m\u001b[0m\u001b[0m\n\u001b[1;32m----> 7\u001b[1;33m \u001b[0mprint\u001b[0m\u001b[1;33m(\u001b[0m\u001b[0mtakhee\u001b[0m\u001b[1;33m)\u001b[0m\u001b[1;33m\u001b[0m\u001b[1;33m\u001b[0m\u001b[0m\n\u001b[0m",
      "\u001b[1;31mNameError\u001b[0m: name 'takhee' is not defined"
     ]
    }
   ],
   "source": [
    "def localscope3():\n",
    "    takhee = 'takhee'\n",
    "    print('takhee')\n",
    "    return None\n",
    "\n",
    "localscope3()\n",
    "print(takhee)"
   ]
  },
  {
   "cell_type": "code",
   "execution_count": 18,
   "metadata": {},
   "outputs": [
    {
     "name": "stdout",
     "output_type": "stream",
     "text": [
      "0\n",
      "1\n",
      "2\n",
      "2\n"
     ]
    }
   ],
   "source": [
    "for takhee in range(3):\n",
    "    print(takhee)\n",
    "    \n",
    "print(takhee)"
   ]
  },
  {
   "cell_type": "code",
   "execution_count": 19,
   "metadata": {},
   "outputs": [
    {
     "name": "stdout",
     "output_type": "stream",
     "text": [
      "5\n",
      "local에서 설정함 5\n",
      "5\n"
     ]
    }
   ],
   "source": [
    "# 굳이 전역에 있는 변수를 바꾸고 싶다면, 아래와 같이 선언할 수 있습니다.\n",
    "\n",
    "global_num = 5\n",
    "\n",
    "def localscope3():\n",
    "    global global_num\n",
    "    global_num = 5\n",
    "    print('local에서 설정함', global_num)\n",
    "    \n",
    "print(global_num)\n",
    "localscope3()\n",
    "print(global_num)\n",
    "\n",
    "\n",
    "# 비추천(global을 붙인다.)"
   ]
  },
  {
   "cell_type": "code",
   "execution_count": 2,
   "metadata": {},
   "outputs": [
    {
     "name": "stdout",
     "output_type": "stream",
     "text": [
      "5\n"
     ]
    }
   ],
   "source": [
    "# 만약 로컬 스코프에서 내가 글로벌 값을 쓰고 싶다면, 인자로 넘겨서 독립된 공간에서 활용시키는게 낫다.\n",
    "\n",
    "global_num = 5\n",
    "def localscope4(g):\n",
    "    print(g)\n",
    "    \n",
    "localscope4(global_num)"
   ]
  },
  {
   "cell_type": "code",
   "execution_count": 8,
   "metadata": {},
   "outputs": [
    {
     "name": "stdout",
     "output_type": "stream",
     "text": [
      "6\n"
     ]
    }
   ],
   "source": [
    "# 만약 로컬 스코프에 있는 값을 내가 글로벌에서 쓰고 싶다면, 리턴을 해라!\n",
    "\n",
    "def localscope5():\n",
    "    global_num = 6\n",
    "    return global_num\n",
    "\n",
    "global_num = localscope5()\n",
    "print(global_num)"
   ]
  },
  {
   "cell_type": "markdown",
   "metadata": {},
   "source": [
    "이름공간은 각자의 수명주기가 있습니다.\n",
    "\n",
    "* built-in scope : 파이썬이 실행된 이후부터 끝까지 \n",
    "\n",
    "* Global scope : 모듈이 호출된 시점 이후 혹은 이름 선언된 이후부터 끝까지\n",
    "\n",
    "* Local/Enclosed scope : 함수가 실행된 시점 이후부터 리턴할때 까지"
   ]
  },
  {
   "cell_type": "markdown",
   "metadata": {},
   "source": [
    "# 재귀 함수(recursive function)\n",
    "\n",
    "재귀 함수는 함수 내부에서 자기 자신을 호출 하는 함수를 뜻한다."
   ]
  },
  {
   "cell_type": "markdown",
   "metadata": {},
   "source": [
    "## 팩토리얼 계산\n",
    "\n",
    "> `팩토리얼(factorial)`을 계산하는 함수 `fact(n)`를 작성해봅시다. \n",
    ">\n",
    "> n은 1보다 큰 정수라고 가정하고, 팩토리얼을 계산한 값을 반환합니다.\n",
    "\n",
    "$$\n",
    "\\displaystyle n! = \\prod_{ k = 1 }^{ n }{ k }\n",
    "$$\n",
    "\n",
    "$$\n",
    "\\displaystyle n! = 1*2*3*...*(n-1)*n\n",
    "$$\n",
    "\n",
    "---\n",
    "```\n",
    "예시 출력)\n",
    "120\n",
    "```"
   ]
  },
  {
   "cell_type": "code",
   "execution_count": null,
   "metadata": {},
   "outputs": [],
   "source": [
    "# 아래에 코드를 작성해주세요.\n",
    "def fact(n):\n",
    "    a = 1\n",
    "    for i in range(1,n+1):\n",
    "        a *= i\n",
    "    return a"
   ]
  },
  {
   "cell_type": "code",
   "execution_count": null,
   "metadata": {},
   "outputs": [],
   "source": [
    "fact(5)"
   ]
  },
  {
   "cell_type": "markdown",
   "metadata": {},
   "source": [
    "## 재귀를 이용한 팩토리얼 계산\n",
    "\n",
    "```\n",
    "1! = 1\n",
    "2! = 1 * 2 = 1! * 2 \n",
    "3! = 1 * 2 * 3 = 2! * 3\n",
    "```"
   ]
  },
  {
   "cell_type": "code",
   "execution_count": null,
   "metadata": {},
   "outputs": [],
   "source": [
    "# 아래에 코드를 작성해주세요.\n",
    "\n",
    "def factorial(n):\n",
    "    if n <= 1:\n",
    "        return n\n",
    "    # base case가 반드시 작성되어야 한다. 필수\n",
    "    \n",
    "    else:\n",
    "        print(n)\n",
    "        return n * factorial(n-1)"
   ]
  },
  {
   "cell_type": "code",
   "execution_count": null,
   "metadata": {},
   "outputs": [],
   "source": [
    "def F(n):\n",
    "    if n <= 1:\n",
    "        return n \n",
    "    else:\n",
    "        return n*F(n-1)\n",
    "        "
   ]
  },
  {
   "cell_type": "code",
   "execution_count": null,
   "metadata": {},
   "outputs": [],
   "source": [
    "print(F(5))"
   ]
  },
  {
   "cell_type": "markdown",
   "metadata": {},
   "source": [
    "## 반복문과 재귀함수\n",
    "```\n",
    "factorial(3)\n",
    "3 * factorail(2)\n",
    "3 * 2 * factorial(1)\n",
    "3 * 2 * 1\n",
    "3 * 2\n",
    "6\n",
    "```\n",
    "\n",
    "* 두 코드 모두 원리는 같다! \n",
    "\n",
    "```\n",
    "반복문 코드:\n",
    "    n이 1보다 큰 경우 반복문을 돌며, n은  1씩 감소한다. \n",
    "    마지막에 n이 1이면 더 이상 반복문을 돌지 않는다.\n",
    "  \n",
    "재귀 함수 코드:\n",
    "    재귀 함수를 호출하며, n은 1씩 감소한다. \n",
    "    마지막에 n이 1이면 더 이상 추가 함수를 호출을 하지 않는다.\n",
    "```\n"
   ]
  },
  {
   "cell_type": "markdown",
   "metadata": {},
   "source": [
    "* 재귀 함수는 기본적으로 같은 문제이지만 점점 범위가 줄어드는 문제를 풀게 된다.\n",
    "\n",
    "* 재귀함수를 작성시에는 반드시, `base case`가 존재 하여야 한다. \n",
    "\n",
    "* `base case`는 점점 범위가 줄어들어 반복되지 않는 최종적으로 도달하는 곳이다. \n",
    "\n",
    "재귀를 이용한 팩토리얼 계산에서의 base case는 n이 1일때, 함수가 아닌 정수 반환하는 것이다."
   ]
  },
  {
   "cell_type": "markdown",
   "metadata": {},
   "source": [
    "* 자기 자신을 호출하는 재귀함수는 알고리즘 구현시 많이 사용된다.\n",
    "* 코드가 더 직관적이고 이해하기 쉬운 경우가 있음. (하지만, 만들기는 어려움)\n",
    "* [Python Tutor](https://goo.gl/k1hQYz)에 보면, 함수가 호출될 때마다 메모리 공간에 쌓이는 것을 볼 수 있다. \n",
    "* 이 경우, 메모리 스택이 넘치거나(Stack overflow) 프로그램 실행 속도가 늘어지는 단점이 생긴다.\n",
    "* 파이썬에서는 이를 방지하기 위해 1,000번이 넘어가게 되면 더이상 함수를 호출하지 않고, 종료된다."
   ]
  },
  {
   "cell_type": "code",
   "execution_count": null,
   "metadata": {},
   "outputs": [],
   "source": [
    "# 여기에서 오류를 확인 해봅시다.\n",
    "\n",
    "def my_func(n):\n",
    "    return my_func(n)\n",
    "my_func(1)"
   ]
  },
  {
   "cell_type": "markdown",
   "metadata": {},
   "source": [
    "## 피보나치 수열\n",
    "\n",
    "> 피보나치 수열은 다음과 같은 점화식이 있다. \n",
    ">\n",
    "> 피보나치 값을 리턴하는 두가지 방식의 코드를 모두 작성해보자.\n",
    "\n",
    "$$\n",
    "\\displaystyle F_0 = F_1 = 1\n",
    "$$\n",
    "\n",
    "$$\n",
    "F_n=F_{n-1}+F_{n-2}\\qquad(n\\in\\{2,3,4,\\dots\\})\n",
    "$$\n",
    "\n",
    "1) `fib(n)` : 재귀함수\n",
    "\n",
    "2) `fib_loop(n)` : 반복문 활용한 함수\n",
    "\n",
    "---\n",
    "```\n",
    "예시 입력)\n",
    "fib(10)\n",
    "\n",
    "예시 호출)\n",
    "89\n",
    "```"
   ]
  },
  {
   "cell_type": "code",
   "execution_count": 6,
   "metadata": {},
   "outputs": [],
   "source": [
    "# 재귀를 이용한 코드를 작성해주세요.\n",
    "\n",
    "def fib(n):\n",
    "    if n < 2:\n",
    "        return 1\n",
    "    return fib(n-1) + fib(n-2)"
   ]
  },
  {
   "cell_type": "code",
   "execution_count": 7,
   "metadata": {},
   "outputs": [
    {
     "data": {
      "text/plain": [
       "89"
      ]
     },
     "execution_count": 7,
     "metadata": {},
     "output_type": "execute_result"
    }
   ],
   "source": [
    "fib(10)"
   ]
  },
  {
   "cell_type": "code",
   "execution_count": null,
   "metadata": {},
   "outputs": [],
   "source": [
    "# 반복문을 이용한 코드를 작성해주세요.\n",
    "\n",
    "def fib_loop(n):\n",
    "    # Q통 + 초기값\n",
    "    Q = [1,1]\n",
    "    # n번 실행하면서 Q의 마지막값과 마지막 -1값\n",
    "    # Q의 마지막값을 리턴\n",
    "    for i in range(1,n):\n",
    "        Q.append(Q[i]+Q[i-1]) # Q = Q.append(Q[-1] + Q[-2])\n",
    "    print(Q)\n",
    "    print(Q[-1])\n",
    "        "
   ]
  },
  {
   "cell_type": "code",
   "execution_count": null,
   "metadata": {},
   "outputs": [],
   "source": [
    "fib_loop(10)"
   ]
  },
  {
   "cell_type": "code",
   "execution_count": 8,
   "metadata": {},
   "outputs": [],
   "source": [
    "def fib_loop_swap(n):\n",
    "    # 초기 값 두개 설정\n",
    "    f, l = 1, 1\n",
    "    for i in range(n-1):\n",
    "        # f 에는 l 값을 주고, l 값에는 f + l 값을 준다.\n",
    "        f, l = l, f + l\n",
    "        # l 값을 리턴한다.\n",
    "        \n",
    "        # t = f\n",
    "        # f = l\n",
    "        # l = t + l\n",
    "    return l    "
   ]
  },
  {
   "cell_type": "code",
   "execution_count": 9,
   "metadata": {},
   "outputs": [],
   "source": [
    "def fib_loop_swap(n):\n",
    "    f, l = 1, 1\n",
    "    for i in range(n-1):\n",
    "        f, l = l, f + l\n",
    "    return l   "
   ]
  },
  {
   "cell_type": "code",
   "execution_count": 10,
   "metadata": {},
   "outputs": [
    {
     "data": {
      "text/plain": [
       "89"
      ]
     },
     "execution_count": 10,
     "metadata": {},
     "output_type": "execute_result"
    }
   ],
   "source": [
    "fib_loop_swap(10)"
   ]
  },
  {
   "cell_type": "markdown",
   "metadata": {},
   "source": [
    "## 반복문과 재귀 함수의 차이"
   ]
  },
  {
   "cell_type": "code",
   "execution_count": null,
   "metadata": {},
   "outputs": [],
   "source": [
    "# 큰 숫자를 재귀로 짜여진 fib()함수의 인자로 넘겨보세요.\n",
    "fib(33)"
   ]
  },
  {
   "cell_type": "code",
   "execution_count": null,
   "metadata": {},
   "outputs": [],
   "source": [
    "# 100배 되는 숫자를 반복문으로 짜여진 fib_loop()인자로 넘겨보세요.\n",
    "fib_loop(33)"
   ]
  },
  {
   "cell_type": "markdown",
   "metadata": {},
   "source": [
    "#### 속도의 차이를 느껴보자\n",
    "\n",
    "\n",
    "###### for문이 더 빠른데 왜 재귀씀? (https://kldp.org/node/134556)\n",
    "- 알고리즘 자체가 재귀적인 표현이 자연스러운 경우\n",
    "- 재귀 호출은 '변수 사용'을 줄여줄 수 있다."
   ]
  },
  {
   "cell_type": "markdown",
   "metadata": {},
   "source": [
    "## 실습문제 - 하노이의 탑\n",
    "\n",
    "> 다음은 하노이의 탑이다. \n",
    ">\n",
    "> 하노이의 탑을 풀이하는 해법(한쪽 탑의 원판을 다른 탑으로 모두 옮기는 법을 출력하는 함수를 만드세요.\n",
    "> \n",
    "> 참고링크 : https://ko.khanacademy.org/computing/computer-science/algorithms/towers-of-hanoi/a/towers-of-hanoi\n",
    "\n",
    "<br>\n",
    "<br>\n",
    "<center>\n",
    "    <img src=\"./images/03/hanoi.gif\", alt=\"\">\n",
    "</center>\n",
    "\n",
    "1. 한 번에 한개의 층만을 다른 기둥으로 옮길 수 있다\n",
    "2. 옮기려는 기둥에는 아무것도 없거나 옮기려는 층보다 큰 층이 있을 경우에만 옮길 수 있다\n",
    "3. 옮기려는 기둥에 옮기려는 층보다 작은 층이 이미 있을 경우 그 기둥으로 옮길 수 없다.\n",
    "4. 가능한 적은 회수로 전체 탑을 다른 기둥으로 옮긴다."
   ]
  },
  {
   "cell_type": "code",
   "execution_count": null,
   "metadata": {},
   "outputs": [],
   "source": [
    "# 아래에 코드를 작성해주세요.\n",
    "\n",
    "def H(n, s, t, e):\n",
    "    if n:\n",
    "        H(n-1, s, e, t)\n",
    "        print(f'{n}번째 원판을, {s} -> {e}')\n",
    "        H(n-1, t, s, e)\n",
    "    "
   ]
  },
  {
   "cell_type": "code",
   "execution_count": null,
   "metadata": {},
   "outputs": [],
   "source": [
    "H(3, 'a', 'b', 'c')"
   ]
  },
  {
   "cell_type": "code",
   "execution_count": null,
   "metadata": {},
   "outputs": [],
   "source": []
  },
  {
   "cell_type": "code",
   "execution_count": null,
   "metadata": {},
   "outputs": [],
   "source": []
  },
  {
   "cell_type": "code",
   "execution_count": null,
   "metadata": {},
   "outputs": [],
   "source": []
  }
 ],
 "metadata": {
  "kernelspec": {
   "display_name": "Python 3",
   "language": "python",
   "name": "python3"
  },
  "language_info": {
   "codemirror_mode": {
    "name": "ipython",
    "version": 3
   },
   "file_extension": ".py",
   "mimetype": "text/x-python",
   "name": "python",
   "nbconvert_exporter": "python",
   "pygments_lexer": "ipython3",
   "version": "3.7.3"
  },
  "toc": {
   "base_numbering": 1,
   "nav_menu": {},
   "number_sections": true,
   "sideBar": true,
   "skip_h1_title": false,
   "title_cell": "Table of Contents",
   "title_sidebar": "Contents",
   "toc_cell": false,
   "toc_position": {},
   "toc_section_display": true,
   "toc_window_display": false
  }
 },
 "nbformat": 4,
 "nbformat_minor": 2
}
