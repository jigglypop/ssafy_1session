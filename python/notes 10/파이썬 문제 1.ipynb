{
 "cells": [
  {
   "cell_type": "code",
   "execution_count": null,
   "metadata": {
    "scrolled": true
   },
   "outputs": [],
   "source": [
    "# 6. 흐름과 제어 - If 1 \n",
    "# 다음의 결과와 같이 임의의 양의 정수를 입력받아 그 정수의 모든 약수를 구하십시오\n",
    "\n",
    "n = int(input())\n",
    "a = [f'{i}(은)는 9의 약수입니다.' for i in range(1,n+1) if n % i ==0]\n",
    "print('\\n'.join(a))"
   ]
  },
  {
   "cell_type": "code",
   "execution_count": null,
   "metadata": {},
   "outputs": [],
   "source": [
    "num = int(input())\n",
    "\n",
    "for i in range(1, num+1):\n",
    "    if num % i == 0:   \n",
    "        print(\"%d(은)는 %d의 약수입니다.\" % (i,num))"
   ]
  },
  {
   "cell_type": "code",
   "execution_count": null,
   "metadata": {},
   "outputs": [],
   "source": [
    "# 7. 흐름과 제어 - If 2\n",
    "# 다음의 결과와 같이 임의의 양의 정수를 입력받아 그 정수의 모든 약수를 구하십시오\n",
    "# (단, 약수가 2개일 경우 소수임을 나타내십시오)\n",
    "\n",
    "n = int(input())\n",
    "r = []\n",
    "for i in range(1,n+1):\n",
    "    if n % i == 0:\n",
    "        r.append(f'{i}(은)는 {n}의 약수입니다.')\n",
    "if len(r) == 2:\n",
    "    r.append(f'{i}(은)는 1과 {n}로만 나눌 수 있는 소수입니다.')\n",
    "print('\\n'.join(r))        "
   ]
  },
  {
   "cell_type": "code",
   "execution_count": null,
   "metadata": {},
   "outputs": [],
   "source": [
    "n = int(input())\n",
    "t=0\n",
    "i=0\n",
    "\n",
    "for i in range (1,n+1):\n",
    "    if n % i == 0:\n",
    "        t=t+1\n",
    "        print(\"%d(은)는 %d의 약수입니다.\" % (i,n));              \n",
    "if t==2:\n",
    "     print(\"%d(은)는 1과 %d로만 나눌 수 있는 소수입니다.\" % (i,n));"
   ]
  },
  {
   "cell_type": "code",
   "execution_count": null,
   "metadata": {},
   "outputs": [],
   "source": [
    "# 8. 흐름제어 - If - 연습문제 3\n",
    "# 다음의 결과와 같이 입력된 영어 알파벳 문자에 대해 대소문자를 구분하는 코드를 작성하십시오.\n",
    "\n",
    "n = input()\n",
    "\n",
    "if ord('a') <= ord(n) <= ord('z'):\n",
    "    print(f'{n} 는 소문자 입니다.')\n",
    "elif ord('A') <= ord(n) <= ord('Z'):\n",
    "    print(f'{n} 는 대문자 입니다.')\n",
    "    "
   ]
  },
  {
   "cell_type": "code",
   "execution_count": null,
   "metadata": {},
   "outputs": [],
   "source": [
    "# 9. 흐름과 제어 - If 4\n",
    "# 다음의 결과와 같이 가상의 두 사람이 가위 바위 보 중 하나를 내서 승패를 가르는 가위 바위 보 게임을 작성하십시오.\n",
    "# 이 때 [\"가위\", \"바위\", \"보\"] 리스트를 활용합니다.\n",
    "\n",
    "Man1 = input()\n",
    "Man2 = input()\n",
    "\n",
    "\n",
    "if (Man1 == '바위' and Man2 == '가위') or (Man1 == '보' and Man2 == '바위') or (Man1 == '가위' and Man2 == '보'):\n",
    "    print('Result : Man1 Win!')\n",
    "elif (Man2 == '바위' and Man1 == '가위') or (Man2 == '보' and Man1 == '바위') or (Man2 == '가위' and Man1 == '보'):\n",
    "    print('Result : Man2 Win!')\n",
    "else:\n",
    "    print('Result : Draw')    "
   ]
  },
  {
   "cell_type": "code",
   "execution_count": null,
   "metadata": {},
   "outputs": [],
   "source": [
    "# 10. 흐름과 제어 - If 5\n",
    "# 다음의 결과와 같이 입력된 문자가 대문자일 경우 소문자로, 소문자일 경우 대문자로 변경하고,\n",
    "# 알파벳이 아닐 경우엔 그냥 출력하는 코드를 작성하십시오.\n",
    "# 출력 시 아스키코드를 함께 출력합니다.\n",
    "\n",
    "\n",
    "n = input()\n",
    "\n",
    "if ord('a') <= ord(n) <= ord('z'):    \n",
    "    print(f'{chr(ord(n))}(ASCII: {ord(n)}) => {chr(ord(n)-32)}(ASCII: {ord(n)-32})')\n",
    "elif ord('A') <= ord(n) <= ord('Z'):\n",
    "    print(f'{chr(ord(n))}(ASCII: {ord(n)}) => {chr(ord(n)+32)}(ASCII: {ord(n)+32})')\n",
    "else:\n",
    "    print(n)\n",
    "\n"
   ]
  },
  {
   "cell_type": "code",
   "execution_count": null,
   "metadata": {},
   "outputs": [],
   "source": [
    "# 11. 흐름과 제어 - If 7\n",
    "'''\n",
    "1~200 사이의 정수 가운데 7의 배수이면서 5의 배수는 아닌 모든 숫자들을 찾아\n",
    "\n",
    "콤마(,)로 구분된 문자열을 구성해 출력하는 프로그램을 작성하십시오.\n",
    "'''\n",
    "r = []\n",
    "for i in range(1,201):\n",
    "    if i % 7 ==0 and i % 5:\n",
    "        r.append(str(i))\n",
    "print(','.join(r))"
   ]
  },
  {
   "cell_type": "code",
   "execution_count": null,
   "metadata": {},
   "outputs": [],
   "source": [
    "r = [str(i) for i in range(1,201) if i % 7 ==0 and i % 5]\n",
    "print(','.join(r))"
   ]
  },
  {
   "cell_type": "code",
   "execution_count": null,
   "metadata": {},
   "outputs": [],
   "source": [
    "# 12. 흐름과 제어 - If 8\n",
    "'''\n",
    "100~300 사이의 숫자에서 각각의 자리 숫자가 짝수인 숫자를 찾아 콤마(,)로 구분해 출력하는 프로그램을 작성하십시오.\n",
    "'''\n",
    "r = []\n",
    "a = []\n",
    "\n",
    "for i in range(200,301):\n",
    "    r.append(list(str(i)))\n",
    "for j in range(len(r)):\n",
    "    if int(r[j][0]) % 2 ==0 and int(r[j][1]) % 2 == 0 and int(r[j][2]) % 2 == 0 :\n",
    "        a.append(str(r[j][0]) + str(r[j][1]) + str(r[j][2]))\n",
    "        \n",
    "print(\",\".join(a))"
   ]
  },
  {
   "cell_type": "code",
   "execution_count": null,
   "metadata": {},
   "outputs": [],
   "source": [
    "s=[88,30,61,55,95]\n",
    "c=0\n",
    "for i in s:\n",
    "    c+=1\n",
    "    if i >= 60:\n",
    "        print(f'{c}번 학생은 {i}점으로 합격입니다.')\n",
    "    else:\n",
    "        print(f'{c}번 학생은 {i}점으로 불합격입니다.')"
   ]
  },
  {
   "cell_type": "code",
   "execution_count": null,
   "metadata": {},
   "outputs": [],
   "source": [
    "for i in range(1,101):\n",
    "    print(i)"
   ]
  },
  {
   "cell_type": "code",
   "execution_count": null,
   "metadata": {},
   "outputs": [],
   "source": [
    "a = list(map(str,range(2,101,2)))\n",
    "print(' '.join(a))"
   ]
  },
  {
   "cell_type": "code",
   "execution_count": null,
   "metadata": {},
   "outputs": [],
   "source": [
    "a = list(map(str,range(1,100,2)))\n",
    "print(', '.join(a))"
   ]
  },
  {
   "cell_type": "code",
   "execution_count": null,
   "metadata": {},
   "outputs": [],
   "source": [
    "a = list(range(3,100,3))\n",
    "print(f'1부터 100사이의 숫자 중 3의 배수의 총합: {sum(a)}')"
   ]
  },
  {
   "cell_type": "code",
   "execution_count": null,
   "metadata": {},
   "outputs": [],
   "source": [
    "r = ['A', 'A', 'A', 'O', 'B', 'B', 'O', 'AB', 'AB', 'O']\n",
    "\n",
    "a = r.count('A')\n",
    "o = r.count('O')\n",
    "b = r.count('B')\n",
    "ab = r.count('AB')\n",
    "q = {'A': a,'O': o,'B': b,'AB': ab}\n",
    "print(q)"
   ]
  },
  {
   "cell_type": "code",
   "execution_count": null,
   "metadata": {},
   "outputs": [],
   "source": [
    "s = [85, 65, 77, 83, 75, 22, 98, 88, 38, 100]\n",
    "print(sum([i for i in s if i>=80])) "
   ]
  },
  {
   "cell_type": "code",
   "execution_count": null,
   "metadata": {},
   "outputs": [],
   "source": [
    "for i in range(5,0,-1):\n",
    "    print('*'*i)"
   ]
  },
  {
   "cell_type": "code",
   "execution_count": null,
   "metadata": {},
   "outputs": [],
   "source": [
    "c = 0\n",
    "for i in range(7,0,-2):\t\n",
    "    print(' '*c + '*'*i)\n",
    "    c += 1"
   ]
  },
  {
   "cell_type": "code",
   "execution_count": null,
   "metadata": {},
   "outputs": [],
   "source": [
    "r = list(map(int,input()))\n",
    "print('0 1 2 3 4 5 6 7 8 9')\n",
    "for i in range(10):\n",
    "    print(r.count(i),end=' ')    "
   ]
  },
  {
   "cell_type": "code",
   "execution_count": null,
   "metadata": {},
   "outputs": [],
   "source": [
    "i=4\n",
    "j=1\n",
    "\n",
    "while i>=0:\n",
    "    print(\" \" * i + \"*\" * j)\n",
    "    i=i-1\n",
    "    j=j+1"
   ]
  },
  {
   "cell_type": "code",
   "execution_count": null,
   "metadata": {},
   "outputs": [],
   "source": [
    "# 8. 함수의 기초 1\n",
    "\n",
    "n = input()\n",
    "def P(n):\n",
    "    if list(n) == list(reversed(n)):\n",
    "        return '입력하신 단어는 회문(Palindrome)입니다.'    \n",
    "print(n)\n",
    "print(P(n))        "
   ]
  },
  {
   "cell_type": "code",
   "execution_count": null,
   "metadata": {},
   "outputs": [],
   "source": [
    "# 8. 함수의 기초 3\n",
    "n = int(input())\n",
    "r = []\n",
    "for i in range(1,n+1):\n",
    "    if n % i == 0:\n",
    "        r.append(i)\n",
    "        \n",
    "if len(r) == 2:\n",
    "    print('소수입니다.')\n",
    "else:\n",
    "    print('소수가 아닙니다.')"
   ]
  },
  {
   "cell_type": "code",
   "execution_count": null,
   "metadata": {},
   "outputs": [],
   "source": [
    "n = int(input())\n",
    "r = [i for i in range(1,n+1) if n % i == 0]\n",
    "if len(r)==2:\n",
    "    print('소수입니다.')\n",
    "else:\n",
    "    print('소수가 아닙니다.')"
   ]
  },
  {
   "cell_type": "code",
   "execution_count": null,
   "metadata": {},
   "outputs": [],
   "source": [
    "a = [1, 2, 3, 4, 3, 2, 1]\n",
    "print(a)\n",
    "print(list(set(a)))"
   ]
  },
  {
   "cell_type": "code",
   "execution_count": null,
   "metadata": {},
   "outputs": [],
   "source": [
    "s=[2, 4, 6, 8, 10]\n",
    "def F(a):\n",
    "    if a in s:\n",
    "        return f'{a} => True'\n",
    "    else:\n",
    "        return f'{a} => False'\n",
    "print(s)\n",
    "print(F(5))\n",
    "print(F(10))"
   ]
  },
  {
   "cell_type": "code",
   "execution_count": null,
   "metadata": {},
   "outputs": [],
   "source": [
    "def f(n):\n",
    "    if n == 1:\n",
    "        return 1\n",
    "    return n * f(n-1)\n",
    "print(f(5))"
   ]
  },
  {
   "cell_type": "code",
   "execution_count": null,
   "metadata": {},
   "outputs": [],
   "source": [
    "n, m = map(int,input().split(', '))\n",
    "\n",
    "def S(a):\n",
    "    return f'square({a}) => {a**2}'\n",
    "\n",
    "print(S(n))\n",
    "print(S(m))"
   ]
  },
  {
   "cell_type": "code",
   "execution_count": null,
   "metadata": {},
   "outputs": [],
   "source": [
    "n, m = map(str,input().split(\", \"))\n",
    "\n",
    "def L(n, m):\n",
    "    if len(n) > len(m):\n",
    "        return n\n",
    "    else:\n",
    "        return m\n",
    "    \n",
    "print(L(n,m))"
   ]
  },
  {
   "cell_type": "code",
   "execution_count": 6,
   "metadata": {},
   "outputs": [
    {
     "name": "stdout",
     "output_type": "stream",
     "text": [
      "카운트다운을 하려면 0보다 큰 입력이 필요합니다.\n",
      "10\n",
      "9\n",
      "8\n",
      "7\n",
      "6\n",
      "5\n",
      "4\n",
      "3\n",
      "2\n",
      "1\n"
     ]
    }
   ],
   "source": [
    "def cowntdown(n):\n",
    "    if n <= 0:\n",
    "        return \"카운트다운을 하려면 0보다 큰 입력이 필요합니다.\"\n",
    "    else:\n",
    "        r = [str(i) for i in range(n,0,-1)]\n",
    "        return '\\n'.join(r)\n",
    "    \n",
    "print(cowntdown(0))\n",
    "print(cowntdown(10))"
   ]
  },
  {
   "cell_type": "code",
   "execution_count": 8,
   "metadata": {},
   "outputs": [
    {
     "name": "stdout",
     "output_type": "stream",
     "text": [
      "홍길동\n",
      "20\n",
      "홍길동(은)는 2099년에 100세가 될 것입니다.\n"
     ]
    }
   ],
   "source": [
    "n = input()\n",
    "m = int(input())\n",
    "print(f'{n}(은)는 {2019+100-m}년에 100세가 될 것입니다.')"
   ]
  },
  {
   "cell_type": "code",
   "execution_count": 85,
   "metadata": {},
   "outputs": [
    {
     "name": "stdout",
     "output_type": "stream",
     "text": [
      "[68, 51, 34, 17]\n",
      "170\n"
     ]
    }
   ],
   "source": [
    "r=\"ADCBBBBCABBCBDACBDCAACDDDCAABABDBCBCBDBDBDDABBAAAAAAADADBDBCBDABADCADC\"\n",
    "a = ['A','B','C','D']\n",
    "for i in a:\n",
    "    g = [len(list(filter(lambda x: x==i, r))) * j for j in list(range(4,0,-1))]\n",
    "print(g)\n",
    "print(sum(g))"
   ]
  },
  {
   "cell_type": "code",
   "execution_count": 47,
   "metadata": {},
   "outputs": [
    {
     "name": "stdout",
     "output_type": "stream",
     "text": [
      "[4, 3, 2, 1]\n"
     ]
    }
   ],
   "source": [
    "print(list(range(4,0,-1)))"
   ]
  }
 ],
 "metadata": {
  "kernelspec": {
   "display_name": "Python 3",
   "language": "python",
   "name": "python3"
  },
  "language_info": {
   "codemirror_mode": {
    "name": "ipython",
    "version": 3
   },
   "file_extension": ".py",
   "mimetype": "text/x-python",
   "name": "python",
   "nbconvert_exporter": "python",
   "pygments_lexer": "ipython3",
   "version": "3.7.3"
  },
  "toc": {
   "base_numbering": 1,
   "nav_menu": {},
   "number_sections": true,
   "sideBar": true,
   "skip_h1_title": false,
   "title_cell": "Table of Contents",
   "title_sidebar": "Contents",
   "toc_cell": false,
   "toc_position": {},
   "toc_section_display": true,
   "toc_window_display": false
  }
 },
 "nbformat": 4,
 "nbformat_minor": 2
}
