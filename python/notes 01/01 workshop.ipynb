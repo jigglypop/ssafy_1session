{
 "cells": [
  {
   "cell_type": "markdown",
   "metadata": {},
   "source": [
    "# problem 1"
   ]
  },
  {
   "cell_type": "code",
   "execution_count": null,
   "metadata": {},
   "outputs": [],
   "source": [
    "n = 5\n",
    "m = 9"
   ]
  },
  {
   "cell_type": "code",
   "execution_count": null,
   "metadata": {},
   "outputs": [],
   "source": [
    "s1 = ['*']*n\n",
    "a = \"\".join(s)\n",
    "s2 = [a]*m\n",
    "print (\"\\n\".join(s2))"
   ]
  },
  {
   "cell_type": "code",
   "execution_count": 38,
   "metadata": {},
   "outputs": [
    {
     "name": "stdout",
     "output_type": "stream",
     "text": [
      "파일은 C:\\Users\\student\\Desktop\\python 전용.절대수정금지\\python-master\\notes에 저장이 되어있습니다.\n",
      " 나는 생각했다. 'cd를 써서 git bash로 들어가 봐야지'\n"
     ]
    }
   ],
   "source": [
    "import os\n",
    "\n",
    "print(f\"파일은 {os.getcwd()}에 저장이 되어있습니다.\\n 나는 생각했다. 'cd를 써서 git bash로 들어가 봐야지'\")"
   ]
  },
  {
   "cell_type": "code",
   "execution_count": null,
   "metadata": {},
   "outputs": [],
   "source": [
    "a = 1\n",
    "b = 4\n",
    "c = -21\n",
    "x1 = (-b + (b*b - 4*a*c)**0.5 ) / (2*a)\n",
    "x2 = (-b - (b*b - 4*a*c)**0.5 ) / (2*a)\n",
    "\n",
    "print('x1 : {0}'.format(x1))\n",
    "print('x2 : {0}'.format(x2))\n",
    "\n",
    "\n"
   ]
  }
 ],
 "metadata": {
  "kernelspec": {
   "display_name": "Python 3",
   "language": "python",
   "name": "python3"
  },
  "language_info": {
   "codemirror_mode": {
    "name": "ipython",
    "version": 3
   },
   "file_extension": ".py",
   "mimetype": "text/x-python",
   "name": "python",
   "nbconvert_exporter": "python",
   "pygments_lexer": "ipython3",
   "version": "3.7.3"
  }
 },
 "nbformat": 4,
 "nbformat_minor": 2
}
