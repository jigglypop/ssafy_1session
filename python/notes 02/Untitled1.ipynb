{
 "cells": [
  {
   "cell_type": "code",
   "execution_count": 15,
   "metadata": {},
   "outputs": [
    {
     "name": "stdout",
     "output_type": "stream",
     "text": [
      "{'A': 5, 'B': 2, 'O': 4, 'AB': 3}\n"
     ]
    }
   ],
   "source": [
    "# 2번째 방법\n",
    "blood = ['A','A','B','O','A','B','A','AB','AB','O','A','O','AB','O']\n",
    "blood_dict = {}\n",
    "\n",
    "# (반복)하나씩 꺼내서 확인한다.\n",
    "for k in blood:    \n",
    "    #지금 나온 적이 없으면, 키와 value 1로 만든다.\n",
    "    if k not in blood_dict.keys():\n",
    "        blood_dict[k] = 1\n",
    "    else:\n",
    "        blood_dict[k] += 1\n",
    "print(blood_dict)"
   ]
  }
 ],
 "metadata": {
  "kernelspec": {
   "display_name": "Python 3",
   "language": "python",
   "name": "python3"
  },
  "language_info": {
   "codemirror_mode": {
    "name": "ipython",
    "version": 3
   },
   "file_extension": ".py",
   "mimetype": "text/x-python",
   "name": "python",
   "nbconvert_exporter": "python",
   "pygments_lexer": "ipython3",
   "version": "3.7.3"
  },
  "toc": {
   "base_numbering": 1,
   "nav_menu": {},
   "number_sections": true,
   "sideBar": true,
   "skip_h1_title": false,
   "title_cell": "Table of Contents",
   "title_sidebar": "Contents",
   "toc_cell": false,
   "toc_position": {},
   "toc_section_display": true,
   "toc_window_display": false
  }
 },
 "nbformat": 4,
 "nbformat_minor": 2
}
